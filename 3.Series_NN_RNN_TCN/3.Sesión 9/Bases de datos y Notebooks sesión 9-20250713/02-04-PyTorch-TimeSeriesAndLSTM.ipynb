{
 "cells": [
  {
   "cell_type": "markdown",
   "metadata": {
    "id": "uL5QkCgzLgT4"
   },
   "source": [
    "Los objetivos de este notebook son:\n",
    "- Ilustrar como crear un `Dataset` de PyTorch que permita obtener batches de datos basados en una serie de tiempo, dada una ventana histórica predictiva y una ventana futura a predecir.\n",
    "- Ilustrar el manejo del módulo `nn.LSTM` de PyTorch para crear capas de neuronas con memoria de largo plazo.\n",
    "- Aplicar lo aprendido a un proceso de pronóstico de una serie de tiempo de la función seno."
   ]
  },
  {
   "cell_type": "markdown",
   "metadata": {
    "id": "ZWXGOr6BuPD9"
   },
   "source": [
    "Este notebook está basado en material encontrado en:\n",
    "- *PyTorch*, https://pytorch.org/"
   ]
  },
  {
   "cell_type": "markdown",
   "metadata": {
    "id": "k7wjBqPFRsam",
    "jp-MarkdownHeadingCollapsed": true
   },
   "source": [
    "# 1. Establecimiento del ambiente de desarrollo y ejecución."
   ]
  },
  {
   "cell_type": "markdown",
   "metadata": {
    "id": "usrSTt3lRhBq"
   },
   "source": [
    "Preparamos el ambiente de desarrollo y ejecución, cargando librerías, verificando el dispositivo disponible (CPU o CUDA), y reseteando el seed."
   ]
  },
  {
   "cell_type": "code",
   "execution_count": 1,
   "metadata": {
    "id": "fCpD-t61Lu8b"
   },
   "outputs": [],
   "source": [
    "import numpy as np\n",
    "import pandas as pd\n",
    "import os, random, math, time\n",
    "import matplotlib as mpl\n",
    "from matplotlib import pyplot as plt\n",
    "import seaborn as sns\n",
    "import torch\n",
    "import torch.nn as nn\n",
    "from torch.utils.data import Dataset\n",
    "from torch.utils.data import DataLoader"
   ]
  },
  {
   "cell_type": "code",
   "execution_count": 2,
   "metadata": {
    "colab": {
     "base_uri": "https://localhost:8080/"
    },
    "id": "Zg73lISeQ2of",
    "outputId": "fdba29c5-f881-4be4-ae24-a9a5d56c291c"
   },
   "outputs": [
    {
     "name": "stdout",
     "output_type": "stream",
     "text": [
      "Utilizamos la primera GPU disponible\n"
     ]
    },
    {
     "data": {
      "text/plain": [
       "device(type='cuda', index=0)"
      ]
     },
     "execution_count": 2,
     "metadata": {},
     "output_type": "execute_result"
    }
   ],
   "source": [
    "if torch.cuda.is_available():\n",
    "    print(\"Utilizamos la primera GPU disponible\")\n",
    "    DEVICE=device = torch.device('cuda:0')\n",
    "    os.environ[\"CUDA_LAUNCH_BLOCKING\"] = \"1\"\n",
    "else:\n",
    "    print(\"No hay GPU, toca correr todo en CPU\")\n",
    "    DEVICE=device = torch.device('cpu')\n",
    "\n",
    "DEVICE"
   ]
  },
  {
   "cell_type": "code",
   "execution_count": 3,
   "metadata": {
    "id": "wZkNj8yMQ_Pr"
   },
   "outputs": [],
   "source": [
    "def reset_seed():\n",
    "    SEED = 42\n",
    "    torch.backends.cudnn.enabled = True\n",
    "    torch.manual_seed(SEED)\n",
    "    np.random.seed(SEED)\n",
    "    random.seed(SEED)\n",
    "\n",
    "    if torch.cuda.is_available():\n",
    "        torch.cuda.manual_seed(SEED)\n",
    "        torch.cuda.manual_seed_all(SEED)\n",
    "        torch.backends.cudnn.deterministic = True\n",
    "        torch.backends.cudnn.benchmark = False"
   ]
  },
  {
   "cell_type": "code",
   "execution_count": 4,
   "metadata": {
    "id": "rAVtJgoiZ-RU"
   },
   "outputs": [],
   "source": [
    "sns.set_style('whitegrid')"
   ]
  },
  {
   "cell_type": "markdown",
   "metadata": {
    "id": "iX_PRwhUQ-9m",
    "jp-MarkdownHeadingCollapsed": true
   },
   "source": [
    "# 2. Datos sintéticos de estudio"
   ]
  },
  {
   "cell_type": "markdown",
   "metadata": {
    "id": "1_MaGSt5Sb2P"
   },
   "source": [
    "Vamos a crear un dataset sencillo con la función sinusoidal, utilizando:\n",
    "- `torch.linspace` : que permite obtener un tensor con una secuencia de valores ordenados y separados entre ellos equidistantemente. Recibe como parámetros el primer, último elemento de la secuencia (no incluido), y el número de puntos a generar.\n",
    "- `torch.rand`: que permite generar valores aleatorios usando una distribución uniforme.\n",
    "- `torch.randn`: que permite generar valores aleatorios usando una distribución normal, teniendo como valores por defecto de sus parámetros media 0 y stdev 1, para utilizar por defecto una distribución normal estándar\n",
    "- `torch.sin`: que recibe un tensor de valores en radianes y retorna un tensor con la función *seno* aplicada a los mismos."
   ]
  },
  {
   "cell_type": "code",
   "execution_count": 5,
   "metadata": {
    "id": "6oh3HrfxYQzT"
   },
   "outputs": [],
   "source": [
    "radMin = -30 # comienzo de la secuencia de los inputs (x) en radianes\n",
    "radMax = 30 # final de la secuencia de los inputs (x) en radianes\n",
    "numPuntos = 3000\n",
    "nivel_ruido_x = 0.5 # nivel de ruido agregado a los inputs (x)\n",
    "nivel_ruido_y = 0.2 # nivel de ruido agregado a las salidas (y)"
   ]
  },
  {
   "cell_type": "markdown",
   "metadata": {
    "id": "H-n6yaapgUNz"
   },
   "source": [
    "Vamos a generar datos aleatorios equidistantes que servirán como inputs, a los que agregaremos un ruido uniforme para eliminar la equidistancia. Veamos el resultado de aplicar la función seno a estos valores."
   ]
  },
  {
   "cell_type": "code",
   "execution_count": 6,
   "metadata": {
    "colab": {
     "base_uri": "https://localhost:8080/"
    },
    "id": "JPg0uykJmQTa",
    "outputId": "97f0db86-23a8-48cc-ccb4-710868e7b9ee"
   },
   "outputs": [
    {
     "data": {
      "text/plain": [
       "tensor([-30.0000, -29.9800, -29.9600,  ...,  29.9600,  29.9800,  30.0000])"
      ]
     },
     "execution_count": 6,
     "metadata": {},
     "output_type": "execute_result"
    }
   ],
   "source": [
    "reset_seed()\n",
    "torch.linspace(radMin, radMax, numPuntos)"
   ]
  },
  {
   "cell_type": "code",
   "execution_count": 7,
   "metadata": {
    "colab": {
     "base_uri": "https://localhost:8080/"
    },
    "id": "zQtomxmknPKV",
    "outputId": "489f7c10-87f2-4b99-8784-26cd09fdf000"
   },
   "outputs": [
    {
     "data": {
      "text/plain": [
       "tensor([0.8823, 0.9150, 0.3829, 0.9593, 0.3904, 0.6009, 0.2566, 0.7936, 0.9408,\n",
       "        0.1332])"
      ]
     },
     "execution_count": 7,
     "metadata": {},
     "output_type": "execute_result"
    }
   ],
   "source": [
    "torch.rand(numPuntos)[:10]"
   ]
  },
  {
   "cell_type": "code",
   "execution_count": 8,
   "metadata": {
    "colab": {
     "base_uri": "https://localhost:8080/"
    },
    "id": "mmB5c690mTgm",
    "outputId": "6152a7cf-4ffd-4e48-db27-bcc4f98102b9"
   },
   "outputs": [
    {
     "data": {
      "text/plain": [
       "tensor([-29.5575, -29.5426, -29.6247,  ...,  29.9783,  30.0210,  30.0006])"
      ]
     },
     "execution_count": 8,
     "metadata": {},
     "output_type": "execute_result"
    }
   ],
   "source": [
    "torch.linspace(radMin, radMax, numPuntos) + nivel_ruido_x*torch.rand(numPuntos)"
   ]
  },
  {
   "cell_type": "code",
   "execution_count": 9,
   "metadata": {
    "colab": {
     "base_uri": "https://localhost:8080/",
     "height": 489
    },
    "id": "fjEzTOdmYrwQ",
    "outputId": "437d50c3-82ba-4be3-c954-27a14cbaf55f"
   },
   "outputs": [
    {
     "data": {
      "text/plain": [
       "Text(0, 0.5, 'Y')"
      ]
     },
     "execution_count": 9,
     "metadata": {},
     "output_type": "execute_result"
    },
    {
     "data": {
      "image/png": "[encoded data removed]",
      "text/plain": [
       "<Figure size 640x480 with 1 Axes>"
      ]
     },
     "metadata": {},
     "output_type": "display_data"
    }
   ],
   "source": [
    "reset_seed()\n",
    "x = torch.linspace(radMin, radMax, numPuntos) + nivel_ruido_x*torch.rand(numPuntos)\n",
    "torch.sort(x)\n",
    "y = torch.sin(x)\n",
    "\n",
    "# Plotting\n",
    "plt.scatter(x.numpy(), y.numpy(), color = 'blue', marker = \".\")\n",
    "plt.title(\"función seno\")\n",
    "plt.xlabel(\"X\")\n",
    "plt.ylabel(\"Y\")"
   ]
  },
  {
   "cell_type": "markdown",
   "metadata": {
    "id": "G6F0BDzuGUn8"
   },
   "source": [
    "Vamos ahora a simular ruido en los datos de salida."
   ]
  },
  {
   "cell_type": "code",
   "execution_count": 10,
   "metadata": {
    "colab": {
     "base_uri": "https://localhost:8080/",
     "height": 489
    },
    "id": "9dDH9KbmGed5",
    "outputId": "f527c53b-5c4e-433b-f7d5-dab064d2e71b"
   },
   "outputs": [
    {
     "data": {
      "text/plain": [
       "Text(0, 0.5, 'Y')"
      ]
     },
     "execution_count": 10,
     "metadata": {},
     "output_type": "execute_result"
    },
    {
     "data": {
      "image/png": "[encoded data removed]",
      "text/plain": [
       "<Figure size 640x480 with 1 Axes>"
      ]
     },
     "metadata": {},
     "output_type": "display_data"
    }
   ],
   "source": [
    "reset_seed()\n",
    "ruido_y = torch.randn(numPuntos)\n",
    "y = torch.sin(x) + nivel_ruido_y*torch.randn(numPuntos)\n",
    "\n",
    "# Plotting\n",
    "plt.scatter(x.numpy(), y.numpy(), color = 'blue', marker = \".\")\n",
    "plt.title(\"función seno ruidosa\")\n",
    "plt.xlabel(\"X\")\n",
    "plt.ylabel(\"Y\")"
   ]
  },
  {
   "cell_type": "markdown",
   "metadata": {
    "id": "l50HKVYGEdx3"
   },
   "source": [
    "Vamos a crear ahora una clase que represente el proceso generador de este dataset a partir de la clase `Dataset` de PyTorch. Necesitamos definir entonces:\n",
    "- La clase  `SerieTiempoSenoDataset`, que hereda de `Dataset`\n",
    "- El método `__init__` que se ejecuta al crear una instancia del dataset, en la que inicializamos los atributos del dataset, en este caso:\n",
    "    - `numPuntos`: número de puntos a generar. Por defecto es 3000. Se le agregará el tamaño de la ventana histórica.\n",
    "    - `ventanaPasado`: número de pasos de tiempo históricos a considerar como predictores. Por defecto es 20.\n",
    "    - `ventanaFuturo`: número de pasos de tiempo futuros a predecir. Por defecto es 1.\n",
    "    - `radMin`: número de radianes mínimo. Por defecto es -6.\n",
    "    - `radMax`: número de radianes mínimo. Por defecto es 6.\n",
    "    - `nivelRuidoX`: multiplicador que agrega ruido en la separación de los valores generados de la variable independiente. Por defecto es 0.5. El ruido se genera según una distribución uniforme en el intervalo [0, 1].\n",
    "    - `nivelRuidoY`: multiplicador que agrega ruido en la variable dependiente resultante de la aplicación del seno (el valor final no va a estar necesariamente entre -1 y 1). Por defecto es 0.2. El ruido se genera según una distribución normal estándar.\n",
    "    - `seed`: semilla aleatoria para generar los puntos. Por defecto es 42.\n",
    "- El método `__len__` que retorna el número de elementos del dataset.\n",
    "- El método `__get_item__` que retorna una instancia del dataset, una tupla que incluye la ventana de tiempo pasado de datos y la ventana de tiempo futura a predecir, dado un índice específico que recibe como parámetro de entrada. Vale la pena anotar que los valores de la variable independiente $x$ usada para generar los valores del seno no son parte de los datos que se retornan, solo la secuencia de valores resultantes de $sin(x)$."
   ]
  },
  {
   "cell_type": "code",
   "execution_count": 11,
   "metadata": {
    "id": "Kd7xy51KTEEW"
   },
   "outputs": [],
   "source": [
    "class SerieTiempoSenoDataset(Dataset):\n",
    "    def __init__(self, numPuntos=3000, ventanaPasado=20, ventanaFuturo=1, numRadMin=-6, numRadMax=6, nivelRuidoX=0.5, nivelRuidoY=0.2, seed=42):\n",
    "        self.seed = seed\n",
    "        self.numPuntos = numPuntos\n",
    "        self.ventanaPasado = ventanaPasado\n",
    "        self.ventanaFuturo = ventanaFuturo\n",
    "        self.numRadMin = numRadMin\n",
    "        self.numRadMax = numRadMax\n",
    "        self.nivelRuidoX = nivelRuidoX\n",
    "        self.nivelRuidoY = nivelRuidoY\n",
    "        reset_seed()\n",
    "        # Generamos puntos aleatorios en el intervalo de radianes dado,\n",
    "        # al número de puntos generados se debe ademas agregar el tamaño de las\n",
    "        # ventanas. Agregamos ruido siguiendo distribución uniforme entre 0 y 1\n",
    "        ruidoX = nivelRuidoX*torch.rand(numPuntos+ventanaPasado+ventanaFuturo-1)\n",
    "        self.x = torch.linspace(numRadMin, numRadMax, numPuntos+ventanaPasado+ventanaFuturo-1) + ruidoX\n",
    "        # Ordenamos los puntos, pues el ruido puede haber influido en la\n",
    "        # secuencialidad de los puntos\n",
    "        torch.sort(self.x)\n",
    "        # Obtenemos los senos de los puntos, y agregamos el ruido (normal estándar)\n",
    "        ruidoY = self.nivelRuidoY*torch.randn(numPuntos+ventanaPasado+ventanaFuturo-1)\n",
    "        self.y = torch.sin(self.x) + ruidoY\n",
    "\n",
    "    def __len__(self):\n",
    "        return self.numPuntos\n",
    "\n",
    "    def __getitem__(self, idx):\n",
    "        if (idx >= self.numPuntos) or (idx < 0):\n",
    "            raise Exception(\"Out of bounds: idx=\", idx)\n",
    "        return torch.reshape(self.y[idx: idx+self.ventanaPasado], (self.ventanaPasado, 1)),\\\n",
    "            self.y[idx+self.ventanaPasado: idx+self.ventanaPasado+self.ventanaFuturo]"
   ]
  },
  {
   "cell_type": "markdown",
   "metadata": {
    "id": "SNF0pVYoOin3"
   },
   "source": [
    "Ahora que creamos el dataset, vamos a instanciarlo para obtener datos de *training* y de *test*."
   ]
  },
  {
   "cell_type": "code",
   "execution_count": 12,
   "metadata": {
    "id": "LmYM6S-BOifi"
   },
   "outputs": [],
   "source": [
    "train_data = SerieTiempoSenoDataset(numPuntos=200, ventanaPasado=10, ventanaFuturo=1, numRadMin=-10, numRadMax=10)\n",
    "val_data = SerieTiempoSenoDataset(numPuntos=200, ventanaPasado=10, ventanaFuturo=1, numRadMin=10, numRadMax=20)"
   ]
  },
  {
   "cell_type": "markdown",
   "metadata": {
    "id": "Dxmg9GCBBdDy"
   },
   "source": [
    "Veamos como se ven las series de puntos generados."
   ]
  },
  {
   "cell_type": "code",
   "execution_count": 13,
   "metadata": {
    "colab": {
     "base_uri": "https://localhost:8080/",
     "height": 466
    },
    "id": "XWZSNRNXOiVO",
    "outputId": "dcc3c3f5-49eb-4ebf-b1a7-5cf522050f2e"
   },
   "outputs": [
    {
     "data": {
      "text/plain": [
       "Text(0, 0.5, 'Y')"
      ]
     },
     "execution_count": 13,
     "metadata": {},
     "output_type": "execute_result"
    },
    {
     "data": {
      "image/png": "[encoded data removed]",
      "text/plain": [
       "<Figure size 640x480 with 1 Axes>"
      ]
     },
     "metadata": {},
     "output_type": "display_data"
    }
   ],
   "source": [
    "fig = plt.figure()\n",
    "ax1 = fig.add_subplot(111)\n",
    "ax1.scatter(train_data.x, train_data.y, color = 'blue', marker = \".\", label='train')\n",
    "ax1.scatter(val_data.x, val_data.y, color = 'green', marker = \".\", label='train')\n",
    "plt.legend(loc='upper left')\n",
    "plt.xlabel(\"X\")\n",
    "plt.ylabel(\"Y\")"
   ]
  },
  {
   "cell_type": "markdown",
   "metadata": {
    "id": "HqqTNwSWCHWz"
   },
   "source": [
    "El dataset tiene entonces duplas de ventanas de predictores y valores a predecir. La idea es predecir un valor futuro dados los diez valores anteriores. Por ejemplo, veamos la primera dupla de datos generados con los primeros elementos de la serie."
   ]
  },
  {
   "cell_type": "code",
   "execution_count": 14,
   "metadata": {
    "colab": {
     "base_uri": "https://localhost:8080/"
    },
    "id": "T-nf2DsOCHHr",
    "outputId": "040a90c2-bb70-4910-92a2-aca0f76cda6a"
   },
   "outputs": [
    {
     "data": {
      "text/plain": [
       "(tensor([[ 0.0347],\n",
       "         [-0.0964],\n",
       "         [ 0.2221],\n",
       "         [-0.1022],\n",
       "         [-0.0324],\n",
       "         [-0.6660],\n",
       "         [ 0.1338],\n",
       "         [-0.3743],\n",
       "         [-0.9699],\n",
       "         [-0.0437]]),\n",
       " tensor([-0.6887]))"
      ]
     },
     "execution_count": 14,
     "metadata": {},
     "output_type": "execute_result"
    }
   ],
   "source": [
    "train_data[0]"
   ]
  },
  {
   "cell_type": "markdown",
   "metadata": {
    "id": "GUkIeIodsYUZ"
   },
   "source": [
    "Vemos entonces lo que sería la ventana histórica de inputs (una secuencia de 10 valores), con la secuencia de valores a predecir en la ventana futura (una secuencia de un único valor en este caso).\n",
    "\n",
    "Es importante notar que cada paso de tiempo en la ventana tiene un solo valor, ya que es una serie mono variable. Podríamos crear tambien series multivariables."
   ]
  },
  {
   "cell_type": "markdown",
   "metadata": {
    "id": "m3T4wEaMsNRJ"
   },
   "source": [
    "La podemos comparar con los primeros datos de la serie del dataset, incluyendo el(los) valor(es) futuro(s)."
   ]
  },
  {
   "cell_type": "code",
   "execution_count": 15,
   "metadata": {
    "colab": {
     "base_uri": "https://localhost:8080/"
    },
    "id": "93rDrp4QsMzN",
    "outputId": "84eab174-8c59-4a87-cc9d-f0329b00daa8"
   },
   "outputs": [
    {
     "data": {
      "text/plain": [
       "tensor([ 0.0347, -0.0964,  0.2221, -0.1022, -0.0324, -0.6660,  0.1338, -0.3743,\n",
       "        -0.9699, -0.0437, -0.6887])"
      ]
     },
     "execution_count": 15,
     "metadata": {},
     "output_type": "execute_result"
    }
   ],
   "source": [
    "train_data.y[:train_data.ventanaPasado+train_data.ventanaFuturo]"
   ]
  },
  {
   "cell_type": "code",
   "execution_count": 16,
   "metadata": {
    "colab": {
     "base_uri": "https://localhost:8080/"
    },
    "id": "rbeMGHHcqkAv",
    "outputId": "2792d695-390e-413d-a0ef-2e7b45c42959"
   },
   "outputs": [
    {
     "data": {
      "text/plain": [
       "(tensor([[ 0.0347],\n",
       "         [-0.0964],\n",
       "         [ 0.2221],\n",
       "         [-0.1022],\n",
       "         [-0.0324],\n",
       "         [-0.6660],\n",
       "         [ 0.1338],\n",
       "         [-0.3743],\n",
       "         [-0.9699],\n",
       "         [-0.0437]]),\n",
       " tensor([-0.6887]))"
      ]
     },
     "execution_count": 16,
     "metadata": {},
     "output_type": "execute_result"
    }
   ],
   "source": [
    "train_data[0]"
   ]
  },
  {
   "cell_type": "markdown",
   "metadata": {
    "id": "HJ7uLNKSB_6o"
   },
   "source": [
    "Ahora veamos la última dupla de datos generados con los últimos elementos de la serie."
   ]
  },
  {
   "cell_type": "code",
   "execution_count": 17,
   "metadata": {
    "colab": {
     "base_uri": "https://localhost:8080/"
    },
    "id": "UJPik7OepxHc",
    "outputId": "4ffef1df-3943-4cb7-d3b9-d58fdc9c0fd2"
   },
   "outputs": [
    {
     "data": {
      "text/plain": [
       "tensor([ 0.1088,  0.4257,  0.0547, -0.1508, -0.4667, -0.4311, -0.1495,  0.0323,\n",
       "        -0.6581, -0.4804, -0.8395])"
      ]
     },
     "execution_count": 17,
     "metadata": {},
     "output_type": "execute_result"
    }
   ],
   "source": [
    "train_data.y[-train_data.ventanaPasado-1:]"
   ]
  },
  {
   "cell_type": "code",
   "execution_count": 18,
   "metadata": {
    "colab": {
     "base_uri": "https://localhost:8080/"
    },
    "id": "N1TqAS2hoeRg",
    "outputId": "b58c4617-38e9-43a5-9dd8-fc3fd1f978e0"
   },
   "outputs": [
    {
     "data": {
      "text/plain": [
       "(tensor([[ 0.1088],\n",
       "         [ 0.4257],\n",
       "         [ 0.0547],\n",
       "         [-0.1508],\n",
       "         [-0.4667],\n",
       "         [-0.4311],\n",
       "         [-0.1495],\n",
       "         [ 0.0323],\n",
       "         [-0.6581],\n",
       "         [-0.4804]]),\n",
       " tensor([-0.8395]))"
      ]
     },
     "execution_count": 18,
     "metadata": {},
     "output_type": "execute_result"
    }
   ],
   "source": [
    "train_data[train_data.numPuntos-1]"
   ]
  },
  {
   "cell_type": "markdown",
   "metadata": {
    "id": "It-xsiB2DYAy"
   },
   "source": [
    "Ya que tenemos el dataset creado, vamos ahora a crear un `DataLoader` para poder obtener batches de entrenamiento y validación de cualquier modelo que vayamos a implementar.\n",
    "El `DataLoader` de entrenamiento lo barajamos con `shuffle=True`, para no introducir sesgos de orden de presentación de instancias de aprendizale; el de test no requiere de ese tratamiento."
   ]
  },
  {
   "cell_type": "code",
   "execution_count": 19,
   "metadata": {
    "id": "-vZ6DRj1Dpr2"
   },
   "outputs": [],
   "source": [
    "train_dataloader = DataLoader(train_data, batch_size=32, shuffle=True)\n",
    "val_dataloader = DataLoader(val_data, batch_size=64, shuffle=False)"
   ]
  },
  {
   "cell_type": "markdown",
   "metadata": {
    "id": "Mh5iA2nHHAEA"
   },
   "source": [
    "Analicemos cómo sería la creación de un batch con los `DataLoader`."
   ]
  },
  {
   "cell_type": "code",
   "execution_count": 20,
   "metadata": {
    "colab": {
     "base_uri": "https://localhost:8080/"
    },
    "id": "CSDh5yQoHIkG",
    "outputId": "3a4a496b-0070-43aa-966e-0ee8b2f7d7e2"
   },
   "outputs": [
    {
     "name": "stdout",
     "output_type": "stream",
     "text": [
      "Train: Feature batch shape: torch.Size([32, 10, 1])\n",
      "Train: Labels batch shape: torch.Size([32, 1])\n",
      "Test: Feature batch shape: torch.Size([64, 10, 1])\n",
      "Test: Labels batch shape: torch.Size([64, 1])\n"
     ]
    }
   ],
   "source": [
    "train_features, train_labels = next(iter(train_dataloader))\n",
    "print(f\"Train: Feature batch shape: {train_features.size()}\")\n",
    "print(f\"Train: Labels batch shape: {train_labels.size()}\")\n",
    "val_features, val_labels = next(iter(val_dataloader))\n",
    "print(f\"Test: Feature batch shape: {val_features.size()}\")\n",
    "print(f\"Test: Labels batch shape: {val_labels.size()}\")"
   ]
  },
  {
   "cell_type": "code",
   "execution_count": 21,
   "metadata": {
    "colab": {
     "base_uri": "https://localhost:8080/"
    },
    "id": "r1MOQ7AUq4xv",
    "outputId": "4a49dd11-dfd2-4e71-c43c-cbaf83e6d8ef"
   },
   "outputs": [
    {
     "data": {
      "text/plain": [
       "tensor([[0.8995],\n",
       "        [0.9842],\n",
       "        [0.6420],\n",
       "        [0.8177],\n",
       "        [1.0309],\n",
       "        [1.0142],\n",
       "        [0.8136],\n",
       "        [0.8965],\n",
       "        [0.8326],\n",
       "        [0.6111]])"
      ]
     },
     "execution_count": 21,
     "metadata": {},
     "output_type": "execute_result"
    }
   ],
   "source": [
    "train_features[0]"
   ]
  },
  {
   "cell_type": "code",
   "execution_count": 22,
   "metadata": {
    "colab": {
     "base_uri": "https://localhost:8080/"
    },
    "id": "A8eE8_iDrEy_",
    "outputId": "4857a031-3aee-41f7-a7df-b6b6428bbcbe"
   },
   "outputs": [
    {
     "data": {
      "text/plain": [
       "tensor([0.5770])"
      ]
     },
     "execution_count": 22,
     "metadata": {},
     "output_type": "execute_result"
    }
   ],
   "source": [
    "train_labels[0]"
   ]
  },
  {
   "cell_type": "markdown",
   "metadata": {
    "id": "6Cs3U_AFHbS6"
   },
   "source": [
    "Tenemos batches de 32 instancias; cada instancia de features tiene una ventana de tiempo (secuencia) con 10 valores consecutivos, y un label asociado con 1 solo valor de paso de tiempo futuro, tanto para training como para test."
   ]
  },
  {
   "cell_type": "markdown",
   "metadata": {
    "id": "ixKMweMWHtfb"
   },
   "source": [
    "# 3. Módulo LSTM de PyTorch"
   ]
  },
  {
   "cell_type": "markdown",
   "metadata": {
    "id": "pKR7eoJ4v7k6"
   },
   "source": [
    "Vamos ahora a ilustrar como crear un modelo LSTM simple, utilizando la clase `torch.nn.LSTM`, que crea una un módulo con capas recurrentes apiladas, recibiendo como parámetros:\n",
    "- `input_size`: el número de **variables de entrada** de la capa inicial. A no confundir con el tamaño de la secuencia, hablamos aquí de los *features*, por ejemplo, la temperatura, la presión atmosférica, la cantidad de precipitación.\n",
    "- `hidden_size`: el número de **neuronas recurrentes** de cada capa apilada.\n",
    "- `num_layers`: el número de **capas recurrentes** a apilar. Si tenemos mas de una capa, las capas subsiguientes reciben como entrada los outputs de las capas anteriores. Sabemos que no es una buena decisión arquitectural tener muchas capas recurrentes.\n",
    "- `nonlinearity`: la **función de activación** a utilizar para calcular los estados escondidos $h_t$. Por defecto es `'tanh'`\n",
    "- `batch_first`: Si es `True`, los tensores de entrada y de salida presentan los ejes en este orden **(batch_size, timesteps, input_features)** en vez de **(timesteps, batch_size, input_features)**. Esto no aplica para los estados intermedios, solo para entradas y salidas. Por defecto es `False`.\n",
    "- `dropout`: si diferente de 0, probabilidad utilizada por capas de `Dropout` intermedias entre las capas recurrentes. Por defecto es 0."
   ]
  },
  {
   "cell_type": "markdown",
   "metadata": {
    "id": "uJSuPMatm16-"
   },
   "source": [
    "Importante notar que el largo de las secuencias a tratar por las capas `LSTM` no tiene ninguna incidencia en la arquitectura de de las mismas (ni en el número de parámetros)."
   ]
  },
  {
   "cell_type": "markdown",
   "metadata": {
    "id": "otgwRaDSx2fN"
   },
   "source": [
    "Creamos un modelo sencillo de una sola capa recurrente con 2 neuronas, que recibe 5 features de entrada, y que recibe los batches de instancias en el primer eje del tensor."
   ]
  },
  {
   "cell_type": "code",
   "execution_count": 23,
   "metadata": {
    "id": "_vRNJib9v5Eh"
   },
   "outputs": [],
   "source": [
    "reset_seed()\n",
    "lstm = nn.LSTM(input_size=5, hidden_size=2, num_layers=1, batch_first=True)"
   ]
  },
  {
   "cell_type": "markdown",
   "metadata": {
    "id": "NnZL5G1Z1-YY"
   },
   "source": [
    "El módulo `LSTM` calcula el estado para cada capa a partir de la función de activación:\n",
    "$$h_t = tanh({x_t​}W_{ih}^{T}+b_{ih}+{h_{t-1}​}W_{hh}^{T}+b_{hh})$$\n",
    "\n",
    "Internamente se manejan 4 estructuras de parámetros por capa. Si tenemos una única capa (capa `'l0'`), tendremos:\n",
    "- `weight_ih_l0`: matriz de pesos $W_{ih}$ que agrupa las 4 matrices de **parámetros que se aplican a los inputs del paso actual**, apiladas una encima de otra. Cada una de estas matrices tendrá un tamaño `[hidden_size, input_size]`, y la matriz global queda con un tamaño `[4*hidden_size, input_size]`:\n",
    "  - $W_{ii}$: compuerta de consideración de la entrada el paso de tiempo actual\n",
    "  - $W_{if}$: compuerta de olvido del estado escondido anterior\n",
    "  - $W_{ig}$: pesos para establecer el estado de celda candidato\n",
    "  - $W_{io}$: compuerta de salida del nuevo estado escondido\n",
    "- `weight_hh_l0`: matriz de pesos $W_{ih}$ que agrupa las 4 matrices de **parámetros que se aplican a los estados escondidos del paso de tiempo anterior**, apiladas una encima de otra. Cada una de estas matrices es cuadrada `[hidden_size, hidden_size]`, por lo que queda una matriz global de tamaño `[4*hidden_size, hidden_size]`:\n",
    "  - $W_{hi}$: compuerta de consideración de la entrada el paso de tiempo actual\n",
    "  - $W_{hf}$: compuerta de olvido del estado escondido anterior\n",
    "  - $W_{hg}$: pesos para establecer el estado de celda candidato\n",
    "  - $W_{ho}$: compuerta de salida del nuevo estado escondido\n",
    "- `bias_ih_l0`: vector de sesgos $b_{ih}$, que agrupa los sesgos que ajustan las 4 combinaciones lineales asociadas a los inputs del paso de tiempo actual, cada una de ellas tendría un sesgo para cada celda recurrente, teniendo el vector global un tamaño `[4*hidden_size]`.\n",
    "- `bias_hh_l0`: vector de sesgos $b_{hh}$, que agrupa los sesgos que ajustan las 4 combinaciones lineales asociadas a los estados escondidos del paso de tiempo anterior, cada una de ellas tendría un sesgo para cada celda recurrente, teniendo el vector global un tamaño `[4*hidden_size]`."
   ]
  },
  {
   "cell_type": "markdown",
   "metadata": {
    "id": "4uER8zJsyUzY"
   },
   "source": [
    "Veamos los parámetros creados internamente por el modelo."
   ]
  },
  {
   "cell_type": "code",
   "execution_count": 24,
   "metadata": {
    "colab": {
     "base_uri": "https://localhost:8080/"
    },
    "id": "jDaxJth8yf4o",
    "outputId": "fdb285bf-0c5f-4fec-d5c1-c3b821848363"
   },
   "outputs": [
    {
     "name": "stdout",
     "output_type": "stream",
     "text": [
      "('weight_ih_l0', Parameter containing:\n",
      "tensor([[ 0.5406,  0.5869, -0.1657,  0.6496, -0.1549],\n",
      "        [ 0.1427, -0.3443,  0.4153,  0.6233, -0.5188],\n",
      "        [ 0.6146,  0.1323,  0.5224,  0.0958,  0.3410],\n",
      "        [-0.0998,  0.5451,  0.1045, -0.3301,  0.1802],\n",
      "        [-0.3258, -0.0829, -0.2872,  0.4691, -0.5582],\n",
      "        [-0.3260, -0.1997, -0.4252,  0.0667, -0.6984],\n",
      "        [ 0.6386, -0.6007,  0.5459,  0.1177, -0.2296],\n",
      "        [ 0.4370,  0.1102,  0.5713,  0.0773, -0.2230]], requires_grad=True))\n",
      "('weight_hh_l0', Parameter containing:\n",
      "tensor([[ 0.1900, -0.1918],\n",
      "        [ 0.2976,  0.6313],\n",
      "        [ 0.4087, -0.3091],\n",
      "        [ 0.4082,  0.1265],\n",
      "        [ 0.3591, -0.4310],\n",
      "        [-0.7000, -0.2732],\n",
      "        [-0.5424,  0.5802],\n",
      "        [ 0.2037,  0.2929]], requires_grad=True))\n",
      "('bias_ih_l0', Parameter containing:\n",
      "tensor([ 0.2236, -0.0123,  0.5534, -0.5024,  0.0445, -0.4826,  0.2180, -0.2435],\n",
      "       requires_grad=True))\n",
      "('bias_hh_l0', Parameter containing:\n",
      "tensor([ 0.2167, -0.1473,  0.5865, -0.4191, -0.4217, -0.4217,  0.6360,  0.2356],\n",
      "       requires_grad=True))\n"
     ]
    }
   ],
   "source": [
    "_=[print(param_name) for param_name in lstm.named_parameters()]"
   ]
  },
  {
   "cell_type": "code",
   "execution_count": 25,
   "metadata": {
    "colab": {
     "base_uri": "https://localhost:8080/"
    },
    "id": "Coz3z_tjv_gJ",
    "outputId": "5e4aa878-3171-486d-f790-863f107cd254"
   },
   "outputs": [
    {
     "name": "stdout",
     "output_type": "stream",
     "text": [
      "weight_ih_l0: torch.Size([8, 5])\n",
      "weight_hh_l0: torch.Size([8, 2])\n",
      "bias_ih_l0: torch.Size([8])\n",
      "bias_hh_l0: torch.Size([8])\n"
     ]
    }
   ],
   "source": [
    "print('weight_ih_l0:', lstm.weight_ih_l0.shape)\n",
    "print('weight_hh_l0:', lstm.weight_hh_l0.shape)\n",
    "print('bias_ih_l0:', lstm.bias_ih_l0.shape)\n",
    "print('bias_hh_l0:', lstm.bias_hh_l0.shape)"
   ]
  },
  {
   "cell_type": "markdown",
   "metadata": {},
   "source": [
    "Las redes recurrentes, sean estas **RNNs**, **LSTMs** o **GRUs**, tienen la posibilidad de considerar información de una secuencia en ambos sentidos, ya sea desde los primeros a los últimos términos, ya sea en el sentido inverso; pueden ser **bidireccionales**.\n",
    "Esto permite considerar, en los casos en los que tenga sentido, tanto información previa como información posterior a un tiempo *t* sobre el cual se quiere hacer una inferencia. Por ejemplo, para identificar el rol de una palabra en NLP, se puede considerar información acerca de conjugaciones, plurales, géneros, etc, que aparezca antes o después del tiempo *t* en la secuencia.\n",
    "\n",
    "Desde el punto de vista del funcionamiento, los procesos de la secuencia en los dos sentidos son **independientes**, y requieren de sus propios parámetros entrenables. Veamos cómo serían éstos para una capa `LSTM`, estableciendo el argumento `bidirectional=True` (por defecto, es `False`)."
   ]
  },
  {
   "cell_type": "code",
   "execution_count": 31,
   "metadata": {},
   "outputs": [],
   "source": [
    "reset_seed()\n",
    "lstm = nn.LSTM(input_size=5, hidden_size=2, num_layers=1, batch_first=True, bidirectional=True)"
   ]
  },
  {
   "cell_type": "code",
   "execution_count": 32,
   "metadata": {},
   "outputs": [
    {
     "name": "stdout",
     "output_type": "stream",
     "text": [
      "('weight_ih_l0', Parameter containing:\n",
      "tensor([[ 0.5406,  0.5869, -0.1657,  0.6496, -0.1549],\n",
      "        [ 0.1427, -0.3443,  0.4153,  0.6233, -0.5188],\n",
      "        [ 0.6146,  0.1323,  0.5224,  0.0958,  0.3410],\n",
      "        [-0.0998,  0.5451,  0.1045, -0.3301,  0.1802],\n",
      "        [-0.3258, -0.0829, -0.2872,  0.4691, -0.5582],\n",
      "        [-0.3260, -0.1997, -0.4252,  0.0667, -0.6984],\n",
      "        [ 0.6386, -0.6007,  0.5459,  0.1177, -0.2296],\n",
      "        [ 0.4370,  0.1102,  0.5713,  0.0773, -0.2230]], requires_grad=True))\n",
      "('weight_hh_l0', Parameter containing:\n",
      "tensor([[ 0.1900, -0.1918],\n",
      "        [ 0.2976,  0.6313],\n",
      "        [ 0.4087, -0.3091],\n",
      "        [ 0.4082,  0.1265],\n",
      "        [ 0.3591, -0.4310],\n",
      "        [-0.7000, -0.2732],\n",
      "        [-0.5424,  0.5802],\n",
      "        [ 0.2037,  0.2929]], requires_grad=True))\n",
      "('bias_ih_l0', Parameter containing:\n",
      "tensor([ 0.2236, -0.0123,  0.5534, -0.5024,  0.0445, -0.4826,  0.2180, -0.2435],\n",
      "       requires_grad=True))\n",
      "('bias_hh_l0', Parameter containing:\n",
      "tensor([ 0.2167, -0.1473,  0.5865, -0.4191, -0.4217, -0.4217,  0.6360,  0.2356],\n",
      "       requires_grad=True))\n",
      "('weight_ih_l0_reverse', Parameter containing:\n",
      "tensor([[ 0.6804, -0.5836, -0.7014, -0.5532, -0.4757],\n",
      "        [ 0.2864,  0.2532,  0.5876, -0.3652, -0.4820],\n",
      "        [ 0.3752, -0.2858,  0.4292, -0.1678,  0.4045],\n",
      "        [-0.5494, -0.3568,  0.2156,  0.1495, -0.1803],\n",
      "        [ 0.4215,  0.4807, -0.5128, -0.3775,  0.6475],\n",
      "        [-0.2386, -0.2507, -0.6842, -0.4049,  0.1766],\n",
      "        [-0.0933, -0.5133,  0.0166, -0.4830, -0.5999],\n",
      "        [-0.3894, -0.6189, -0.4502,  0.7068,  0.1336]], requires_grad=True))\n",
      "('weight_hh_l0_reverse', Parameter containing:\n",
      "tensor([[ 0.2179, -0.6595],\n",
      "        [-0.4644, -0.2354],\n",
      "        [ 0.1106, -0.6222],\n",
      "        [-0.3047, -0.4233],\n",
      "        [ 0.0020, -0.2631],\n",
      "        [-0.0490, -0.4792],\n",
      "        [-0.4854, -0.4125],\n",
      "        [-0.2420, -0.5581]], requires_grad=True))\n",
      "('bias_ih_l0_reverse', Parameter containing:\n",
      "tensor([ 0.5929, -0.1403,  0.6084,  0.2203, -0.5988,  0.4893, -0.1946, -0.2711],\n",
      "       requires_grad=True))\n",
      "('bias_hh_l0_reverse', Parameter containing:\n",
      "tensor([-0.5869, -0.7030,  0.2023, -0.1545,  0.2753, -0.5803,  0.5250, -0.5191],\n",
      "       requires_grad=True))\n"
     ]
    }
   ],
   "source": [
    "_=[print(param_name) for param_name in lstm.named_parameters()]"
   ]
  },
  {
   "cell_type": "markdown",
   "metadata": {},
   "source": [
    "Vemos que tenemos el doble de tensores en cuanto a los parámetros de la capa, la versión \"de izquierda a derecha\" con las estructuras ya explicadas, y una version `_reverse` con las matrices para el proceso \"de derecha a izquierda\"."
   ]
  },
  {
   "cell_type": "code",
   "execution_count": 33,
   "metadata": {},
   "outputs": [
    {
     "name": "stdout",
     "output_type": "stream",
     "text": [
      "weight_ih_l0: torch.Size([8, 5])\n",
      "weight_hh_l0: torch.Size([8, 2])\n",
      "bias_ih_l0: torch.Size([8])\n",
      "bias_hh_l0: torch.Size([8])\n",
      "weight_ih_l0_reverse: torch.Size([8, 5])\n",
      "weight_hh_l0_reverse: torch.Size([8, 2])\n",
      "bias_ih_l0_reverse: torch.Size([8])\n",
      "bias_hh_l0_reverse: torch.Size([8])\n"
     ]
    }
   ],
   "source": [
    "print('weight_ih_l0:', lstm.weight_ih_l0.shape)\n",
    "print('weight_hh_l0:', lstm.weight_hh_l0.shape)\n",
    "print('bias_ih_l0:', lstm.bias_ih_l0.shape)\n",
    "print('bias_hh_l0:', lstm.bias_hh_l0.shape)\n",
    "print('weight_ih_l0_reverse:', lstm.weight_ih_l0_reverse.shape)\n",
    "print('weight_hh_l0_reverse:', lstm.weight_hh_l0_reverse.shape)\n",
    "print('bias_ih_l0_reverse:', lstm.bias_ih_l0_reverse.shape)\n",
    "print('bias_hh_l0_reverse:', lstm.bias_hh_l0_reverse.shape)"
   ]
  },
  {
   "cell_type": "markdown",
   "metadata": {},
   "source": [
    "## Funcionamiento interno"
   ]
  },
  {
   "cell_type": "markdown",
   "metadata": {},
   "source": [
    "Retomamos la red unidireccional y vamos a entender su funcionamiento interno."
   ]
  },
  {
   "cell_type": "code",
   "execution_count": 35,
   "metadata": {},
   "outputs": [],
   "source": [
    "reset_seed()\n",
    "lstm = nn.LSTM(input_size=5, hidden_size=2, num_layers=1, batch_first=True, bidirectional=False)"
   ]
  },
  {
   "cell_type": "markdown",
   "metadata": {
    "id": "aBraW3M_2AYt"
   },
   "source": [
    "Vamos a crear un tensor de entrada para analizar su proceso a traves de la capa `LSTM`.\n",
    "\n",
    "Para ilustrar, vamos a tener un batch de entrada con una única instancia, con secuencias de 3 pasos de tiempo para 5 features. Cada instancia tendra un tensor organizado así: (timesteps=3, input_features=5)."
   ]
  },
  {
   "cell_type": "code",
   "execution_count": 36,
   "metadata": {
    "colab": {
     "base_uri": "https://localhost:8080/"
    },
    "id": "Zk8HWUpU2ORH",
    "outputId": "dd1639a7-7341-4bae-8817-abdfebd07f39"
   },
   "outputs": [
    {
     "name": "stdout",
     "output_type": "stream",
     "text": [
      "torch.Size([3, 5])\n",
      "tensor([[1., 1., 1., 1., 1.],\n",
      "        [2., 2., 2., 2., 2.],\n",
      "        [3., 3., 3., 3., 3.]])\n"
     ]
    }
   ],
   "source": [
    "x_seq = torch.tensor([[1.0]*5, [2.0]*5, [3.0]*5]).float()\n",
    "print(x_seq.shape)\n",
    "print(x_seq)"
   ]
  },
  {
   "cell_type": "markdown",
   "metadata": {
    "id": "THrwpUyuq6jO"
   },
   "source": [
    "El modulo `LSTM` espera un **tensor de entrada** cuyos ejes se organizan en el orden **(batch_size, timesteps, input_features)**, por lo que es necesario agregar el eje externo del batch con la única instancia."
   ]
  },
  {
   "cell_type": "code",
   "execution_count": 37,
   "metadata": {
    "colab": {
     "base_uri": "https://localhost:8080/"
    },
    "id": "oDopZz2DvduW",
    "outputId": "81302225-6087-4928-aee2-98fea555d6cf"
   },
   "outputs": [
    {
     "name": "stdout",
     "output_type": "stream",
     "text": [
      "tensor([[[1., 1., 1., 1., 1.],\n",
      "         [2., 2., 2., 2., 2.],\n",
      "         [3., 3., 3., 3., 3.]]])\n"
     ]
    }
   ],
   "source": [
    "print(torch.reshape(x_seq, (1, 3, 5)))"
   ]
  },
  {
   "cell_type": "markdown",
   "metadata": {
    "id": "M3X2Rr_q2cAr"
   },
   "source": [
    "El llamado al módulo va a retornar tr4es tensores:\n",
    "- un tensor de **outputs** con todos los estados de salida de las neuronas de la última capa recurrente (en este ejemplo una única capa), para todos los pasos de tiempo de la secuencia, cuyos ejes se organizan en  **(batch_size, timesteps, output_features)**.\n",
    "- un tensor con los **estados escondidos** de salida del último paso para las neuronas de la última capa recurrente, cuyos ejes se organizan en  **(num_layers, batch_size, output_features)**. Estos están considerados en el tensor de **outputs**.\n",
    "- un tensor con los **estados de celda** del último paso para las neuronas de la última capa recurrente, cuyos ejes se organizan en  **(num_layers, batch_size, output_features)**."
   ]
  },
  {
   "cell_type": "markdown",
   "metadata": {
    "id": "_14mLH6dvdW7"
   },
   "source": [
    "En cuanto a la salida del modelo, tendremos un valor por cada paso de tiempo de la secuencia, por cada una de las 2 neuronas de la última (en este caso única) capa del módulo recurrente.\n",
    "Vamos ahora a enviar el tensor de prueba por el modelo para verificar su salida. Adicionalmente también habríamos podido enviar en el llamado un tensor con los estados iniciales $h_0$, y los estados de celda iniciales $c_0$, a considerar para todas las capas del módulo `LSTM`, pero al no enviarlo, estima un tensor con ceros por defecto."
   ]
  },
  {
   "cell_type": "code",
   "execution_count": 38,
   "metadata": {
    "colab": {
     "base_uri": "https://localhost:8080/"
    },
    "id": "avlvRTIuq6aE",
    "outputId": "65beddc9-e9b6-4789-d1c3-ccb8171d6d99"
   },
   "outputs": [
    {
     "name": "stdout",
     "output_type": "stream",
     "text": [
      "output: torch.Size([1, 3, 2]) \n",
      "   tensor([[[-0.4848, -0.3527],\n",
      "         [-0.8015, -0.5374],\n",
      "         [-0.9065, -0.6685]]], grad_fn=<TransposeBackward0>)\n",
      "hn: torch.Size([1, 1, 2]) \n",
      "   tensor([[[-0.9065, -0.6685]]], grad_fn=<StackBackward0>)\n",
      "cn: torch.Size([1, 1, 2]) \n",
      "   tensor([[[-2.6153, -0.9048]]], grad_fn=<StackBackward0>)\n"
     ]
    }
   ],
   "source": [
    "output, (hn, cn) = lstm(torch.reshape(x_seq, (1, 3, 5)))\n",
    "print(\"output:\", output.shape, \"\\n  \",output)\n",
    "print(\"hn:\", hn.shape, \"\\n  \", hn)\n",
    "print(\"cn:\", hn.shape, \"\\n  \", cn)"
   ]
  },
  {
   "cell_type": "markdown",
   "metadata": {
    "id": "fyPCg0QWtEn5"
   },
   "source": [
    "Es importante notar que, al igual que con en el módulo `RNN`, **todos los pasos de tiempo se procesan uno después de otro en el módulo `LSTM` antes de producir las salidas**.\n",
    "Vemos que los outputs tienen el valor de salida para cada neurona de la capa escondida para cada paso de tiempo. Las salidas del último paso de tiempo corresponde con el último estado de las neuronas escondidas."
   ]
  },
  {
   "cell_type": "markdown",
   "metadata": {
    "id": "GqdCabbewSzJ"
   },
   "source": [
    "Expliquemos ahora como se calcula el **feed forward** del modelo internamente. Vamos a tomar cada paso de tiempo a la vez, y crear la matriz con sus datos."
   ]
  },
  {
   "cell_type": "markdown",
   "metadata": {},
   "source": [
    "Vamos a extraer las matrices específicas para cada compuerta y cálculo de las matrices de pesos."
   ]
  },
  {
   "cell_type": "code",
   "execution_count": 60,
   "metadata": {},
   "outputs": [],
   "source": [
    "w_xh = lstm.weight_ih_l0\n",
    "w_hh = lstm.weight_hh_l0\n",
    "b_xh = lstm.bias_ih_l0\n",
    "b_hh = lstm.bias_hh_l0"
   ]
  },
  {
   "cell_type": "code",
   "execution_count": 61,
   "metadata": {},
   "outputs": [],
   "source": [
    "w_xi = w_xh[0:2, :]\n",
    "w_xf = w_xh[2:4, :]\n",
    "w_xg = w_xh[4:6, :]\n",
    "w_xo = w_xh[6:8, :]\n",
    "b_xi = b_xh[0:2]\n",
    "b_xf = b_xh[2:4]\n",
    "b_xg = b_xh[4:6]\n",
    "b_xo = b_xh[6:8]\n",
    "\n",
    "w_hi = w_hh[0:2, :]\n",
    "w_hf = w_hh[2:4, :]\n",
    "w_hg = w_hh[4:6, :]\n",
    "w_ho = w_hh[6:8, :]\n",
    "b_hi = b_hh[0:2]\n",
    "b_hf = b_hh[2:4]\n",
    "b_hg = b_hh[4:6]\n",
    "b_ho = b_hh[6:8]"
   ]
  },
  {
   "cell_type": "markdown",
   "metadata": {},
   "source": [
    "### Primer Paso de tiempo"
   ]
  },
  {
   "cell_type": "code",
   "execution_count": 52,
   "metadata": {},
   "outputs": [],
   "source": [
    "paso=0"
   ]
  },
  {
   "cell_type": "code",
   "execution_count": 78,
   "metadata": {},
   "outputs": [
    {
     "name": "stdout",
     "output_type": "stream",
     "text": [
      "input:\n",
      " tensor([[1., 1., 1., 1., 1.]])\n"
     ]
    }
   ],
   "source": [
    "# input del primer paso\n",
    "xt = torch.reshape(x_seq[0], (1, 5))\n",
    "print(\"input:\\n\", xt)"
   ]
  },
  {
   "cell_type": "markdown",
   "metadata": {},
   "source": [
    "Vamos a obviar los estados anteriores al ser el primer paso de tiempo, suponiendo inicializaciones en los estados iguales a cero."
   ]
  },
  {
   "cell_type": "code",
   "execution_count": 82,
   "metadata": {},
   "outputs": [
    {
     "name": "stdout",
     "output_type": "stream",
     "text": [
      "\n",
      "estados escondidos previos ht-1:\n",
      " tensor([0., 0.])\n",
      "\n",
      "estados de celda previos ct-1:\n",
      " tensor([0., 0.])\n"
     ]
    }
   ],
   "source": [
    "prev_h = torch.zeros((lstm.hidden_size))\n",
    "print(\"\\nestados escondidos previos ht-1:\\n\", prev_h)\n",
    "\n",
    "prev_c = torch.zeros((lstm.hidden_size))\n",
    "print(\"\\nestados de celda previos ct-1:\\n\", prev_c)"
   ]
  },
  {
   "cell_type": "markdown",
   "metadata": {},
   "source": [
    "#### Compuerta de input\n",
    "\n",
    "Se evalúa si el valor candidato calculado para este paso de tiempo va a ser considerado o no."
   ]
  },
  {
   "cell_type": "code",
   "execution_count": 83,
   "metadata": {},
   "outputs": [
    {
     "name": "stdout",
     "output_type": "stream",
     "text": [
      "matriz Wxi:\n",
      " tensor([[ 0.5406,  0.5869, -0.1657,  0.6496, -0.1549],\n",
      "        [ 0.1427, -0.3443,  0.4153,  0.6233, -0.5188]],\n",
      "       grad_fn=<SliceBackward0>)\n",
      "matriz Wxi transpuesta:\n",
      " tensor([[ 0.5406,  0.1427],\n",
      "        [ 0.5869, -0.3443],\n",
      "        [-0.1657,  0.4153],\n",
      "        [ 0.6496,  0.6233],\n",
      "        [-0.1549, -0.5188]], grad_fn=<TransposeBackward0>)\n",
      "sesgos bxi:\n",
      " tensor([ 0.2236, -0.0123], grad_fn=<SliceBackward0>)\n",
      "\n",
      "comb lineal entrada x*Wxi + bxi :\n",
      " tensor([[1.6801, 0.3060]], grad_fn=<AddBackward0>)\n"
     ]
    }
   ],
   "source": [
    "print(\"matriz Wxi:\\n\", w_xi)\n",
    "print(\"matriz Wxi transpuesta:\\n\", torch.transpose(w_xi, 0, 1))\n",
    "print(\"sesgos bxi:\\n\",b_xi)\n",
    "\n",
    "# combinación lineal de entrada: x*Wxi + bxi\n",
    "xi = torch.matmul(xt, torch.transpose(w_xi, 0, 1)) + b_xi\n",
    "print(\"\\ncomb lineal entrada x*Wxi + bxi :\\n\", xi)"
   ]
  },
  {
   "cell_type": "code",
   "execution_count": 84,
   "metadata": {},
   "outputs": [
    {
     "name": "stdout",
     "output_type": "stream",
     "text": [
      "matriz Whi transpuesta:\n",
      " tensor([[ 0.1900,  0.2976],\n",
      "        [-0.1918,  0.6313]], grad_fn=<TransposeBackward0>)\n",
      "sesgos bhi:\n",
      " tensor([ 0.2167, -0.1473], grad_fn=<SliceBackward0>)\n",
      "\n",
      "comb lineal estado escondido prev_h*Whi + bhi :\n",
      " tensor([ 0.2167, -0.1473], grad_fn=<AddBackward0>)\n"
     ]
    }
   ],
   "source": [
    "print(\"matriz Whi transpuesta:\\n\", torch.transpose(w_hi, 0, 1))\n",
    "print(\"sesgos bhi:\\n\",b_hi)\n",
    "\n",
    "# combinación lineal de estado escondido: x*Whi + bhi\n",
    "hi = torch.matmul(prev_h, torch.transpose(w_hi, 0, 1)) + b_hi\n",
    "print(\"\\ncomb lineal estado escondido prev_h*Whi + bhi :\\n\", hi)"
   ]
  },
  {
   "cell_type": "code",
   "execution_count": 85,
   "metadata": {},
   "outputs": [
    {
     "name": "stdout",
     "output_type": "stream",
     "text": [
      "input gate:\n",
      " tensor([[0.8695, 0.5396]], grad_fn=<SigmoidBackward0>)\n"
     ]
    }
   ],
   "source": [
    "# valor de la compuerta de entrada\n",
    "input_gate = torch.sigmoid(xi + hi)\n",
    "print(\"input gate:\\n\", input_gate)"
   ]
  },
  {
   "cell_type": "markdown",
   "metadata": {},
   "source": [
    "#### Compuerta de olvido\n",
    "\n",
    "Se evalúa si se va a olvidar el estado de celda anterior o no."
   ]
  },
  {
   "cell_type": "code",
   "execution_count": 89,
   "metadata": {},
   "outputs": [
    {
     "name": "stdout",
     "output_type": "stream",
     "text": [
      "matriz Wxf transpuesta:\n",
      " tensor([[ 0.6146, -0.0998],\n",
      "        [ 0.1323,  0.5451],\n",
      "        [ 0.5224,  0.1045],\n",
      "        [ 0.0958, -0.3301],\n",
      "        [ 0.3410,  0.1802]], grad_fn=<TransposeBackward0>)\n",
      "sesgos bxf:\n",
      " tensor([ 0.5534, -0.5024], grad_fn=<SliceBackward0>)\n",
      "\n",
      "comb lineal entrada x*Wxf + bxf :\n",
      " tensor([[ 2.2595, -0.1025]], grad_fn=<AddBackward0>)\n",
      "matriz Whf transpuesta:\n",
      " tensor([[ 0.4087,  0.4082],\n",
      "        [-0.3091,  0.1265]], grad_fn=<TransposeBackward0>)\n",
      "sesgos bhf:\n",
      " tensor([ 0.5865, -0.4191], grad_fn=<SliceBackward0>)\n",
      "\n",
      "comb lineal estado escondido prev_h*Whf + bhf :\n",
      " tensor([ 0.5865, -0.4191], grad_fn=<AddBackward0>)\n",
      "input gate:\n",
      " tensor([[0.9451, 0.3725]], grad_fn=<SigmoidBackward0>)\n"
     ]
    }
   ],
   "source": [
    "print(\"matriz Wxf transpuesta:\\n\", torch.transpose(w_xf, 0, 1))\n",
    "print(\"sesgos bxf:\\n\", b_xf)\n",
    "\n",
    "# combinación lineal de entrada: x*Wxf + bxf\n",
    "xf = torch.matmul(xt, torch.transpose(w_xf, 0, 1)) + b_xf\n",
    "print(\"\\ncomb lineal entrada x*Wxf + bxf :\\n\", xf)\n",
    "\n",
    "print(\"matriz Whf transpuesta:\\n\", torch.transpose(w_hf, 0, 1))\n",
    "print(\"sesgos bhf:\\n\", b_hf)\n",
    "\n",
    "# combinación lineal de estado escondido: x*Whf + bhf\n",
    "hf = torch.matmul(prev_h, torch.transpose(w_hf, 0, 1)) + b_hf\n",
    "print(\"\\ncomb lineal estado escondido prev_h*Whf + bhf :\\n\", hf)\n",
    "\n",
    "# valor de la compuerta de olvido\n",
    "forget_gate = torch.sigmoid(xf + hf)\n",
    "print(\"input gate:\\n\", forget_gate)"
   ]
  },
  {
   "cell_type": "markdown",
   "metadata": {},
   "source": [
    "#### Compuerta de salida\n",
    "\n",
    "Se evalúa si la activación del estado de celda se debe tener en cuenta en la salida del estado escondido o no."
   ]
  },
  {
   "cell_type": "code",
   "execution_count": 91,
   "metadata": {},
   "outputs": [
    {
     "name": "stdout",
     "output_type": "stream",
     "text": [
      "matriz Wxo transpuesta:\n",
      " tensor([[ 0.6386,  0.4370],\n",
      "        [-0.6007,  0.1102],\n",
      "        [ 0.5459,  0.5713],\n",
      "        [ 0.1177,  0.0773],\n",
      "        [-0.2296, -0.2230]], grad_fn=<TransposeBackward0>)\n",
      "sesgos bxo:\n",
      " tensor([ 0.5534, -0.5024], grad_fn=<SliceBackward0>)\n",
      "\n",
      "comb lineal entrada x*Wxo + bxo :\n",
      " tensor([[0.6899, 0.7293]], grad_fn=<AddBackward0>)\n",
      "matriz Who transpuesta:\n",
      " tensor([[-0.5424,  0.2037],\n",
      "        [ 0.5802,  0.2929]], grad_fn=<TransposeBackward0>)\n",
      "sesgos bho:\n",
      " tensor([0.6360, 0.2356], grad_fn=<SliceBackward0>)\n",
      "\n",
      "comb lineal estado escondido prev_h*Who + bho :\n",
      " tensor([0.6360, 0.2356], grad_fn=<AddBackward0>)\n",
      "output gate:\n",
      " tensor([[0.7902, 0.7241]], grad_fn=<SigmoidBackward0>)\n"
     ]
    }
   ],
   "source": [
    "print(\"matriz Wxo transpuesta:\\n\", torch.transpose(w_xo, 0, 1))\n",
    "print(\"sesgos bxo:\\n\", b_xf)\n",
    "\n",
    "# combinación lineal de entrada: x*Wxo + bxo\n",
    "xo = torch.matmul(xt, torch.transpose(w_xo, 0, 1)) + b_xo\n",
    "print(\"\\ncomb lineal entrada x*Wxo + bxo :\\n\", xo)\n",
    "\n",
    "print(\"matriz Who transpuesta:\\n\", torch.transpose(w_ho, 0, 1))\n",
    "print(\"sesgos bho:\\n\", b_ho)\n",
    "\n",
    "# combinación lineal de estado escondido: x*Who + bho\n",
    "ho = torch.matmul(prev_h, torch.transpose(w_ho, 0, 1)) + b_ho\n",
    "print(\"\\ncomb lineal estado escondido prev_h*Who + bho :\\n\", ho)\n",
    "\n",
    "# valor de la compuerta de salida\n",
    "output_gate = torch.sigmoid(xo + ho)\n",
    "print(\"output gate:\\n\", output_gate)"
   ]
  },
  {
   "cell_type": "markdown",
   "metadata": {},
   "source": [
    "#### Cómputo del valor candidato del paso actual\n",
    "\n",
    "Se calcula el valor candidato a venir a actualizar los estados."
   ]
  },
  {
   "cell_type": "code",
   "execution_count": 92,
   "metadata": {},
   "outputs": [
    {
     "name": "stdout",
     "output_type": "stream",
     "text": [
      "matriz Wxg transpuesta:\n",
      " tensor([[-0.3258, -0.3260],\n",
      "        [-0.0829, -0.1997],\n",
      "        [-0.2872, -0.4252],\n",
      "        [ 0.4691,  0.0667],\n",
      "        [-0.5582, -0.6984]], grad_fn=<TransposeBackward0>)\n",
      "sesgos bxg:\n",
      " tensor([ 0.5534, -0.5024], grad_fn=<SliceBackward0>)\n",
      "\n",
      "comb lineal entrada x*Wxg + bxg :\n",
      " tensor([[-0.7405, -2.0651]], grad_fn=<AddBackward0>)\n",
      "matriz Who transpuesta:\n",
      " tensor([[ 0.3591, -0.7000],\n",
      "        [-0.4310, -0.2732]], grad_fn=<TransposeBackward0>)\n",
      "sesgos bhg:\n",
      " tensor([-0.4217, -0.4217], grad_fn=<SliceBackward0>)\n",
      "\n",
      "comb lineal estado escondido prev_h*Whg + bhg :\n",
      " tensor([-0.4217, -0.4217], grad_fn=<AddBackward0>)\n",
      "candidate value:\n",
      " tensor([[-0.8218, -0.9863]], grad_fn=<TanhBackward0>)\n"
     ]
    }
   ],
   "source": [
    "print(\"matriz Wxg transpuesta:\\n\", torch.transpose(w_xg, 0, 1))\n",
    "print(\"sesgos bxg:\\n\", b_xf)\n",
    "\n",
    "# combinación lineal de entrada: x*Wxg + bxg\n",
    "xg = torch.matmul(xt, torch.transpose(w_xg, 0, 1)) + b_xg\n",
    "print(\"\\ncomb lineal entrada x*Wxg + bxg :\\n\", xg)\n",
    "\n",
    "print(\"matriz Who transpuesta:\\n\", torch.transpose(w_hg, 0, 1))\n",
    "print(\"sesgos bhg:\\n\", b_hg)\n",
    "\n",
    "# combinación lineal de estado escondido: x*Whg + bhg\n",
    "hg = torch.matmul(prev_h, torch.transpose(w_hg, 0, 1)) + b_hg\n",
    "print(\"\\ncomb lineal estado escondido prev_h*Whg + bhg :\\n\", hg)\n",
    "\n",
    "# valor del estado candidato\n",
    "candidate_value = torch.tanh(xg + hg)\n",
    "print(\"candidate value:\\n\", candidate_value)"
   ]
  },
  {
   "cell_type": "markdown",
   "metadata": {},
   "source": [
    "#### Cómputo de nuevo estado de celda\n",
    "\n",
    "Se calcula el nuevo valor del estado de celda."
   ]
  },
  {
   "cell_type": "code",
   "execution_count": 104,
   "metadata": {},
   "outputs": [
    {
     "name": "stdout",
     "output_type": "stream",
     "text": [
      "estado de celda anterior:  tensor([0., 0.])\n",
      "post olvido del estado de celda anterior:  tensor([[0., 0.]], grad_fn=<MulBackward0>)\n",
      "aporte del nuevo valor candidato:  tensor([[-0.7145, -0.5322]], grad_fn=<MulBackward0>)\n",
      "nuevo valor de estado de celda:  tensor([[-0.7145, -0.5322]], grad_fn=<AddBackward0>)\n"
     ]
    }
   ],
   "source": [
    "# estado de celda anterior\n",
    "print(\"estado de celda anterior: \", prev_c)\n",
    "\n",
    "# olvido del estado de celda anterior\n",
    "new_c = torch.mul(prev_c, forget_gate)\n",
    "print(\"post olvido del estado de celda anterior: \", new_c)\n",
    "\n",
    "# aporte del nuevo valor candidato \n",
    "candidate_c = torch.mul(candidate_value, input_gate)\n",
    "print(\"aporte del nuevo valor candidato: \", candidate_c)\n",
    "\n",
    "# incorporación de valor candidato\n",
    "new_c = new_c + candidate_c\n",
    "print(\"nuevo valor de estado de celda: \", new_c)"
   ]
  },
  {
   "cell_type": "markdown",
   "metadata": {},
   "source": [
    "#### Cómputo de nuevo estado escondido\n",
    "\n",
    "Se calcula el nuevo valor del estado escondido."
   ]
  },
  {
   "cell_type": "code",
   "execution_count": 105,
   "metadata": {},
   "outputs": [
    {
     "name": "stdout",
     "output_type": "stream",
     "text": [
      "estado escondido anterior:  tensor([0., 0.])\n",
      "contribución del estado de celda actual:  tensor([[-0.6135, -0.4870]], grad_fn=<TanhBackward0>)\n",
      "nuevo valor de estado escondido:  tensor([[-0.4848, -0.3527]], grad_fn=<MulBackward0>)\n"
     ]
    }
   ],
   "source": [
    "# estado  anterior\n",
    "print(\"estado escondido anterior: \", prev_h)\n",
    "\n",
    "# aporte del estado de celda de este paso de tiempo\n",
    "cell_state_component = torch.tanh(new_c)\n",
    "print(\"contribución del estado de celda actual: \", cell_state_component)\n",
    "\n",
    "# nuevo valor del estado escondido\n",
    "new_h = torch.mul(cell_state_component, output_gate)\n",
    "print(\"nuevo valor de estado escondido: \", new_h)"
   ]
  },
  {
   "cell_type": "markdown",
   "metadata": {},
   "source": [
    "### Ciclo de proceso de la secuencia de datos"
   ]
  },
  {
   "cell_type": "code",
   "execution_count": 149,
   "metadata": {
    "colab": {
     "base_uri": "https://localhost:8080/"
    },
    "id": "kQH2UZH66oT0",
    "outputId": "42e32ae4-211e-43e1-9293-07ed926b1689"
   },
   "outputs": [
    {
     "name": "stdout",
     "output_type": "stream",
     "text": [
      "Time step 0 =>\n",
      " Input : [[1. 1. 1. 1. 1.]]\n",
      " input gate: [[0.8695272 0.5395849]]\n",
      " forget gate: [[0.945109   0.37247825]]\n",
      " output gate: [[0.7901701  0.72410244]]\n",
      " candidate value: [[-0.82175606 -0.9862599 ]]\n",
      " nuevo valor de estado de celda:  [[-0.7145393 -0.5321709]]\n",
      " nuevo valor de estado escondido:  [[-0.48478153 -0.352666  ]]\n",
      "\n",
      "Time step 1 =>\n",
      " Input : [[2. 2. 2. 2. 2.]]\n",
      " input gate: [[0.9654035  0.52748525]]\n",
      " forget gate: [[0.98860264 0.40994614]]\n",
      " output gate: [[0.86485004 0.8501336 ]]\n",
      " candidate value: [[-0.9617929  -0.99860495]]\n",
      " nuevo valor de estado de celda:  [[-1.6349137 -0.7449108]]\n",
      " nuevo valor de estado escondido:  [[-0.8015068 -0.537372 ]]\n",
      "\n",
      "Time step 2 =>\n",
      " Input : [[3. 3. 3. 3. 3.]]\n",
      " input gate: [[0.9915115 0.5541569]]\n",
      " forget gate: [[0.99775463 0.47080132]]\n",
      " output gate: [[0.91626865 0.9302033 ]]\n",
      " candidate value: [[-0.9924597  -0.99989843]]\n",
      " nuevo valor de estado de celda:  [[-2.615278  -0.9048056]]\n",
      " nuevo valor de estado escondido:  [[-0.9065158 -0.6684718]]\n",
      "\n"
     ]
    }
   ],
   "source": [
    "hidden_state_manual = [] # Aquí quedarán los estados temporales por cada paso de tiempo\n",
    "\n",
    "# Inicialmente, los estados están en cero\n",
    "prev_h = torch.zeros((lstm.hidden_size))\n",
    "prev_c = torch.zeros((lstm.hidden_size))\n",
    "\n",
    "# Recorremos los valores de los features por cada paso de tiempo\n",
    "for t in range(3):\n",
    "    # Preparamos los datos del paso de tiempo\n",
    "    xt = torch.reshape(x_seq[t], (1, 5))\n",
    "    print(f'Time step {t} =>')\n",
    "    print(' Input :', xt.numpy())\n",
    "\n",
    "    # Input Gate\n",
    "    # combinación lineal de entrada: x*Wxi + bxi\n",
    "    xi = torch.matmul(xt, torch.transpose(w_xi, 0, 1)) + b_xi\n",
    "    # combinación lineal de estado escondido: x*Whi + bhi\n",
    "    hi = torch.matmul(prev_h, torch.transpose(w_hi, 0, 1)) + b_hi\n",
    "    # valor de la compuerta de entrada\n",
    "    input_gate = torch.sigmoid(xi + hi)\n",
    "    print(\" input gate:\", input_gate.detach().numpy())\n",
    "\n",
    "    # Forget Gate\n",
    "    # combinación lineal de entrada: x*Wxf + bxf\n",
    "    xf = torch.matmul(xt, torch.transpose(w_xf, 0, 1)) + b_xf\n",
    "    # combinación lineal de estado escondido: x*Whf + bhf\n",
    "    hf = torch.matmul(prev_h, torch.transpose(w_hf, 0, 1)) + b_hf\n",
    "    # valor de la compuerta de olvido\n",
    "    forget_gate = torch.sigmoid(xf + hf)\n",
    "    print(\" forget gate:\", forget_gate.detach().numpy())\n",
    "\n",
    "    # Output Gate\n",
    "    # combinación lineal de entrada: x*Wxo + bxo\n",
    "    xo = torch.matmul(xt, torch.transpose(w_xo, 0, 1)) + b_xo\n",
    "    # combinación lineal de estado escondido: x*Who + bho\n",
    "    ho = torch.matmul(prev_h, torch.transpose(w_ho, 0, 1)) + b_ho\n",
    "    # valor de la compuerta de salida\n",
    "    output_gate = torch.sigmoid(xo + ho)\n",
    "    print(\" output gate:\", output_gate.detach().numpy())\n",
    "\n",
    "    # Candidate Value\n",
    "    # combinación lineal de entrada: x*Wxg + bxg\n",
    "    xg = torch.matmul(xt, torch.transpose(w_xg, 0, 1)) + b_xg\n",
    "    # combinación lineal de estado escondido: x*Whg + bhg\n",
    "    hg = torch.matmul(prev_h, torch.transpose(w_hg, 0, 1)) + b_hg\n",
    "    # valor del estado candidato\n",
    "    candidate_value = torch.tanh(xg + hg)\n",
    "    print(\" candidate value:\", candidate_value.detach().numpy())\n",
    "\n",
    "    # Nuevo estado de celda\n",
    "    # olvido del estado de celda anterior\n",
    "    new_c = torch.mul(prev_c, forget_gate)\n",
    "    # aporte del nuevo valor candidato \n",
    "    candidate_c = torch.mul(candidate_value, input_gate)\n",
    "    # incorporación de valor candidato\n",
    "    new_c = new_c + candidate_c\n",
    "    print(\" nuevo valor de estado de celda: \", new_c.detach().numpy())\n",
    "\n",
    "    # Nuevo estado escondido\n",
    "    # aporte del estado de celda de este paso de tiempo\n",
    "    cell_state_component = torch.tanh(new_c)\n",
    "    # nuevo valor del estado escondido\n",
    "    new_h = torch.mul(cell_state_component, output_gate)\n",
    "    print(\" nuevo valor de estado escondido: \", new_h.detach().numpy())\n",
    "\n",
    "    hidden_state_manual.append(new_h.detach().numpy())\n",
    "    prev_h = new_h\n",
    "    prev_c = new_c\n",
    "    print()"
   ]
  },
  {
   "cell_type": "code",
   "execution_count": 150,
   "metadata": {},
   "outputs": [
    {
     "data": {
      "text/plain": [
       "([array([[-0.48478153, -0.352666  ]], dtype=float32),\n",
       "  array([[-0.8015068, -0.537372 ]], dtype=float32),\n",
       "  array([[-0.9065158, -0.6684718]], dtype=float32)],\n",
       " (array([[-0.9065158, -0.6684718]], dtype=float32),\n",
       "  array([[-2.615278 , -0.9048056]], dtype=float32)))"
      ]
     },
     "execution_count": 150,
     "metadata": {},
     "output_type": "execute_result"
    }
   ],
   "source": [
    "hidden_state_manual, (new_h.detach().numpy(), new_c.detach().numpy())"
   ]
  },
  {
   "cell_type": "code",
   "execution_count": 152,
   "metadata": {},
   "outputs": [
    {
     "data": {
      "text/plain": [
       "(array([[[-0.48478153, -0.35266602],\n",
       "         [-0.8015068 , -0.537372  ],\n",
       "         [-0.9065157 , -0.6684719 ]]], dtype=float32),\n",
       " (array([[[-0.9065157, -0.6684719]]], dtype=float32),\n",
       "  array([[[-2.6152778 , -0.90480566]]], dtype=float32)))"
      ]
     },
     "execution_count": 152,
     "metadata": {},
     "output_type": "execute_result"
    }
   ],
   "source": [
    "output.detach().numpy(), (hn.detach().numpy(), cn.detach().numpy())"
   ]
  },
  {
   "cell_type": "markdown",
   "metadata": {},
   "source": [
    "# 4. Modelo de forecasting con LSTMs y GRUs"
   ]
  },
  {
   "cell_type": "markdown",
   "metadata": {},
   "source": [
    "Previamente utilizamos redes neuronales con capas recurrentes de tipo **Simple RNN**. \n",
    "Si bien todavía no hemos estudiado los modelos con capas recurrentes con arquitecturas más complejas com el **LSTM** o el **GRU**, vamos a utilizarlas en nuevos modelos de forecasting inspirados del modelo anterior. \n"
   ]
  },
  {
   "cell_type": "markdown",
   "metadata": {},
   "source": [
    "<span style=\"color: red;\">Puntos a desarrollar:</span>\n",
    "- <span style=\"color: red;\">Defina una clase de modelo que incluya capas **LSTM**s en vez de **RNN**.</span>\n",
    "- <span style=\"color: red;\">Defina una clase de modelo que incluya capas **GRU**s en vez de **RNN**.</span>\n",
    "- <span style=\"color: red;\">Entrénelos buscando las mejores configuraciones de hiperparámetros.</span>\n",
    "- <span style=\"color: red;\">Calcule el RMSE, MAE y R2 de la predicción.</span>\n",
    "- <span style=\"color: red;\">Grafique la serie de entrenamiento, la de test, y los valores predichos.</span>"
   ]
  },
  {
   "cell_type": "code",
   "execution_count": null,
   "metadata": {},
   "outputs": [],
   "source": []
  },
  {
   "cell_type": "code",
   "execution_count": null,
   "metadata": {},
   "outputs": [],
   "source": []
  },
  {
   "cell_type": "code",
   "execution_count": null,
   "metadata": {
    "id": "43Zzf6DxNXYU"
   },
   "outputs": [],
   "source": []
  }
 ],
 "metadata": {
  "accelerator": "GPU",
  "colab": {
   "gpuType": "T4",
   "provenance": []
  },
  "kernelspec": {
   "display_name": "Python 3 (ipykernel)",
   "language": "python",
   "name": "python3"
  },
  "language_info": {
   "codemirror_mode": {
    "name": "ipython",
    "version": 3
   },
   "file_extension": ".py",
   "mimetype": "text/x-python",
   "name": "python",
   "nbconvert_exporter": "python",
   "pygments_lexer": "ipython3",
   "version": "3.12.3"
  }
 },
 "nbformat": 4,
 "nbformat_minor": 4
}
