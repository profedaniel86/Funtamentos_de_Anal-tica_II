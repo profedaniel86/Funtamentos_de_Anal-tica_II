{
 "cells": [
  {
   "cell_type": "markdown",
   "metadata": {
    "toc": true
   },
   "source": [
    "<h1>Table of Contents<span class=\"tocSkip\"></span></h1>\n",
    "<div class=\"toc\"><ul class=\"toc-item\"><li><span><a href=\"#Red-neuronal-artificial-desde-cero-en-Numpy---Problema-del-XOR\" data-toc-modified-id=\"Red-neuronal-artificial-desde-cero-en-Numpy---Problema-del-XOR-1\"><span class=\"toc-item-num\">1&nbsp;&nbsp;</span>Red neuronal artificial desde cero en Numpy - Problema del XOR</a></span><ul class=\"toc-item\"><li><span><a href=\"#Inicialización-de-los-parámetros\" data-toc-modified-id=\"Inicialización-de-los-parámetros-1.1\"><span class=\"toc-item-num\">1.1&nbsp;&nbsp;</span>Inicialización de los parámetros</a></span></li><li><span><a href=\"#Feed-Forward\" data-toc-modified-id=\"Feed-Forward-1.2\"><span class=\"toc-item-num\">1.2&nbsp;&nbsp;</span>Feed Forward</a></span></li><li><span><a href=\"#Función-de-costo\" data-toc-modified-id=\"Función-de-costo-1.3\"><span class=\"toc-item-num\">1.3&nbsp;&nbsp;</span>Función de costo</a></span></li><li><span><a href=\"#Función-de-backpropagation\" data-toc-modified-id=\"Función-de-backpropagation-1.4\"><span class=\"toc-item-num\">1.4&nbsp;&nbsp;</span>Función de backpropagation</a></span></li><li><span><a href=\"#Una-iteración-de-entrenamiento\" data-toc-modified-id=\"Una-iteración-de-entrenamiento-1.5\"><span class=\"toc-item-num\">1.5&nbsp;&nbsp;</span>Una iteración de entrenamiento</a></span></li><li><span><a href=\"#Ciclo-de-entrenamiento\" data-toc-modified-id=\"Ciclo-de-entrenamiento-1.6\"><span class=\"toc-item-num\">1.6&nbsp;&nbsp;</span>Ciclo de entrenamiento</a></span></li><li><span><a href=\"#Encontrar-el-mejor-learning-rate\" data-toc-modified-id=\"Encontrar-el-mejor-learning-rate-1.7\"><span class=\"toc-item-num\">1.7&nbsp;&nbsp;</span>Encontrar el mejor learning rate</a></span></li></ul></li></ul></div>"
   ]
  },
  {
   "cell_type": "markdown",
   "metadata": {},
   "source": [
    "# Red neuronal artificial desde cero en Numpy - Problema del XOR"
   ]
  },
  {
   "cell_type": "markdown",
   "metadata": {},
   "source": [
    "Mezcla entre los videos de Siraj Raval y de Andrew Ng\n",
    "- https://www.youtube.com/watch?v=vcZub77WvFA\n",
    "- https://www.youtube.com/watch?v=262XJe2I2D0\n",
    "- https://www.coursera.org/learn/neural-networks-deep-learning/lecture/6dDj7/backpropagation-intuition-optional\n"
   ]
  },
  {
   "cell_type": "markdown",
   "metadata": {},
   "source": [
    "Vamos a crear un clasificador binario que podrá aprender la solución a la operación de XOR, utilizando una red neuronal artificial con una capa escondida que sigue la estructura presentada en la siguiente imagen."
   ]
  },
  {
   "cell_type": "markdown",
   "metadata": {},
   "source": [
    "<img src=\"08-01-TradANNDesdeCero.png\">"
   ]
  },
  {
   "cell_type": "markdown",
   "metadata": {},
   "source": [
    "Para ilustrar el procedimiento de back-propagation vamos a utilizar solamente funciones activación sigmoide, y vamos a utilizar numpy para ilustrar las operaciones matemáticas matriciales básicas con numpy."
   ]
  },
  {
   "cell_type": "code",
   "execution_count": 1,
   "metadata": {},
   "outputs": [],
   "source": [
    "import numpy as np #operaciones matriciales y con vectores\n",
    "import matplotlib.pyplot as plt #gráficos\n",
    "from sklearn.metrics import classification_report, confusion_matrix, accuracy_score\n",
    "import time"
   ]
  },
  {
   "cell_type": "markdown",
   "metadata": {},
   "source": [
    "Definimos la función sigmoide y su función gradiente basada en si misma."
   ]
  },
  {
   "cell_type": "code",
   "execution_count": 2,
   "metadata": {},
   "outputs": [],
   "source": [
    "def sigmoide(x):\n",
    "    return 1/(1+np.exp(-x))\n",
    "\n",
    "def sigmoideGrad(x): # x en este caso es el valor de la función sigmoide\n",
    "    return x*(1-x)"
   ]
  },
  {
   "cell_type": "markdown",
   "metadata": {},
   "source": [
    "Creamos datos sintéticos (XOR sobre las dos primeras columnas) y especificamos los parámetros de la red neuronal. Incluimos una tercera columna para mostrar que la red resultante aprende a ignorar los atributos que no son importantes."
   ]
  },
  {
   "cell_type": "code",
   "execution_count": 3,
   "metadata": {},
   "outputs": [
    {
     "name": "stdout",
     "output_type": "stream",
     "text": [
      "X [[0 0 1 1 0 0 1 1]\n",
      " [0 1 0 1 0 1 0 1]\n",
      " [1 1 1 1 0 0 0 0]]\n",
      "y [0 1 1 0 0 1 1 0]\n"
     ]
    }
   ],
   "source": [
    "# Queremos que cada dato registro sea un vector de 3 posiciones. \n",
    "# Tenemos aquí 8 registros apilados horizontalmente gracias a la transposición del array incialmente creado\n",
    "X = np.transpose(np.array([\n",
    "    [0,0,1],\n",
    "    [0,1,1],\n",
    "    [1,0,1],\n",
    "    [1,1,1],\n",
    "    [0,0,0],\n",
    "    [0,1,0],\n",
    "    [1,0,0],\n",
    "    [1,1,0]\n",
    "]))\n",
    "print(\"X\", X)\n",
    "\n",
    "y = np.array([\n",
    "    0, \n",
    "    1, \n",
    "    1, \n",
    "    0,\n",
    "    0, \n",
    "    1, \n",
    "    1, \n",
    "    0])\n",
    "print(\"y\", y)\n"
   ]
  },
  {
   "cell_type": "markdown",
   "metadata": {},
   "source": [
    "## Inicialización de los parámetros"
   ]
  },
  {
   "cell_type": "markdown",
   "metadata": {},
   "source": [
    "Inicializamos los pesos de la red aleatoriamente para la capa intermedia (1) y la capa de salida (2). La capa inicial no tiene pesos pues consiste únicamente de los datos de entrada.\n",
    "\n",
    "La primera capa tiene 4 neuronas y 3 inputs, creamos una matriz de pesos w1 con 4 filas y 3 columnas. Tenemos además un vector b1 con 4 posiciones.\n",
    "\n",
    "La segunda capa tiene 1 neurona y 4 inputs, creamos una matriz de pesos w2 con 1 fila y 4 columnas. Tenemos además un vector b2 con 1 posición."
   ]
  },
  {
   "cell_type": "code",
   "execution_count": 4,
   "metadata": {},
   "outputs": [],
   "source": [
    "def initParams():\n",
    "    np.random.seed(123456)\n",
    "\n",
    "    w1 = 2*np.random.random((4, 3))-1\n",
    "    w2 = 2*np.random.random((1, 4))-1\n",
    "    b1 = np.zeros((4,1))\n",
    "    b2 = np.zeros((1,1))\n",
    "    return(w1, b1, w2, b2)"
   ]
  },
  {
   "cell_type": "code",
   "execution_count": 5,
   "metadata": {},
   "outputs": [
    {
     "name": "stdout",
     "output_type": "stream",
     "text": [
      "w1: {[[-0.74606033  0.93343568 -0.47904799]\n",
      " [ 0.79447305 -0.24650057 -0.32755651]\n",
      " [-0.09724706  0.68051017 -0.75379571]\n",
      " [ 0.0860524  -0.25397555 -0.10400635]]}\n",
      "b1: {[[0.]\n",
      " [0.]\n",
      " [0.]\n",
      " [0.]]}\n",
      "w2: {[[-0.74111864  0.71975741  0.64077673 -0.29589292]]}\n",
      "b2: {[[0.]]}\n"
     ]
    }
   ],
   "source": [
    "w1, b1, w2, b2 = initParams()\n",
    "print(\"w1: {%s}\\nb1: {%s}\" % (w1, b1))\n",
    "print(\"w2: {%s}\\nb2: {%s}\" % (w2, b2))"
   ]
  },
  {
   "cell_type": "markdown",
   "metadata": {},
   "source": [
    "Ya tenemos los pesos de toda la red definidos "
   ]
  },
  {
   "cell_type": "markdown",
   "metadata": {},
   "source": [
    "## Feed Forward"
   ]
  },
  {
   "cell_type": "markdown",
   "metadata": {},
   "source": [
    "Cada época, el proceso debe pasar los datos del dataset por las capas, propagando la información hacia adelante a través de las funciones de activación. Veamos como funciona esto en un primer paso."
   ]
  },
  {
   "cell_type": "markdown",
   "metadata": {},
   "source": [
    "por convención las \"activaciones\" de la capa de entrada son los mismos valores de las instancias de entrenamiento. Por eso definimos a0=X"
   ]
  },
  {
   "cell_type": "code",
   "execution_count": 6,
   "metadata": {},
   "outputs": [
    {
     "data": {
      "text/plain": [
       "array([[0, 0, 1, 1, 0, 0, 1, 1],\n",
       "       [0, 1, 0, 1, 0, 1, 0, 1],\n",
       "       [1, 1, 1, 1, 0, 0, 0, 0]])"
      ]
     },
     "execution_count": 6,
     "metadata": {},
     "output_type": "execute_result"
    }
   ],
   "source": [
    "a0 = X # matriz de 3 filas (inputs) * 8 columnas (registros)\n",
    "a0"
   ]
  },
  {
   "cell_type": "markdown",
   "metadata": {},
   "source": [
    "Para pasar la información a través de una capa, vamos a realizar la combinación lineal de las salidas de la capa anterior (producto punto de dos vectores, los **a**'s anteriores y los **w**'s de los pesos de la capa) y a pasar el resultado por una función de activación no lineal (en este caso la sigmoide), teniendo como salida los **a**'s de la cpaa en cuestión."
   ]
  },
  {
   "cell_type": "code",
   "execution_count": 7,
   "metadata": {},
   "outputs": [
    {
     "data": {
      "text/plain": [
       "array([[-0.74606033,  0.93343568, -0.47904799],\n",
       "       [ 0.79447305, -0.24650057, -0.32755651],\n",
       "       [-0.09724706,  0.68051017, -0.75379571],\n",
       "       [ 0.0860524 , -0.25397555, -0.10400635]])"
      ]
     },
     "execution_count": 7,
     "metadata": {},
     "output_type": "execute_result"
    }
   ],
   "source": [
    "w1"
   ]
  },
  {
   "cell_type": "code",
   "execution_count": 10,
   "metadata": {},
   "outputs": [
    {
     "data": {
      "text/plain": [
       "array([[0.],\n",
       "       [0.],\n",
       "       [0.],\n",
       "       [0.]])"
      ]
     },
     "execution_count": 10,
     "metadata": {},
     "output_type": "execute_result"
    }
   ],
   "source": [
    "b1"
   ]
  },
  {
   "cell_type": "code",
   "execution_count": 11,
   "metadata": {},
   "outputs": [
    {
     "name": "stdout",
     "output_type": "stream",
     "text": [
      "[[-0.47904799  0.45438769 -1.22510832 -0.29167265  0.          0.93343568\n",
      "  -0.74606033  0.18737534]\n",
      " [-0.32755651 -0.57405708  0.46691654  0.22041597  0.         -0.24650057\n",
      "   0.79447305  0.54797248]\n",
      " [-0.75379571 -0.07328554 -0.85104277 -0.1705326   0.          0.68051017\n",
      "  -0.09724706  0.58326311]\n",
      " [-0.10400635 -0.3579819  -0.01795395 -0.2719295   0.         -0.25397555\n",
      "   0.0860524  -0.16792315]]\n",
      "[[0.38247695 0.61168194 0.22703873 0.42759443 0.5        0.71777179\n",
      "  0.32168034 0.54670726]\n",
      " [0.41883528 0.3603012  0.61465368 0.55488198 0.5        0.43868502\n",
      "  0.68879097 0.63366506]\n",
      " [0.3199948  0.48168681 0.29921416 0.45746987 0.5        0.66385255\n",
      "  0.47570738 0.6418179 ]\n",
      " [0.47402183 0.41144818 0.49551163 0.43243347 0.5        0.43684522\n",
      "  0.52149984 0.45811758]]\n"
     ]
    }
   ],
   "source": [
    "z1 = np.dot(w1, a0) + b1 # (4, 3) * (3, 8) --> (4, 8) 4 filas (neuronas capa 1) * 8 columnas (registros = inputs capa 1)\n",
    "print(z1)\n",
    "a1 = sigmoide(z1)   # (4, 8) 4 filas (neuronas capa 1) * 8 columnas (registros)\n",
    "print(a1)"
   ]
  },
  {
   "cell_type": "markdown",
   "metadata": {},
   "source": [
    "Se repite el proceso con la siguiente capa, que es la capa de salida.\n",
    "En **a2** quedan los resultados de las 8 instancias del set de entrenamiento."
   ]
  },
  {
   "cell_type": "code",
   "execution_count": 12,
   "metadata": {},
   "outputs": [
    {
     "name": "stdout",
     "output_type": "stream",
     "text": [
      "[[ 0.08278451 -0.00709033  0.31924999  0.24766426  0.16176129  0.07991459\n",
      "   0.40787322  0.32661841]]\n",
      "[[0.52068432 0.49822742 0.57914146 0.56160151 0.54035237 0.51996802\n",
      "  0.60057781 0.58093636]]\n"
     ]
    }
   ],
   "source": [
    "z2 = np.dot(w2, a1) + b2 # (1, 4) * (4, 8) --> (1, 8) 1 filas (neuronas capa 2) * 8 columnas (registros)\n",
    "print(z2)\n",
    "a2 = sigmoide(z2)  # (1, 8) 1 filas (neuronas capa 2) * 8 columnas (registros)\n",
    "print(a2)"
   ]
  },
  {
   "cell_type": "markdown",
   "metadata": {},
   "source": [
    "Vamos a definimos una función llamada **feedForward**, que nos permita realizar este proceso para cualquier capa (diferente de la de entrada), que recibe la matriz de inputs con todos los registros y retorna el vector con las predicciones correspondientes:"
   ]
  },
  {
   "cell_type": "code",
   "execution_count": 12,
   "metadata": {},
   "outputs": [],
   "source": [
    "def feedForward(X, w1, b1, w2, b2):\n",
    "    '''Calcula el valor predicho para todos los registros que se encuentran en X\n",
    "       -----------\n",
    "       Argumentos:\n",
    "       X: matriz con los inputs, con tantas filas como atributos y tantas columnas como registros\n",
    "       w1: matriz con los pesos de las conexiones entrantes de la 1a capa, \n",
    "         con tantas filas como atributos y tantas columnas como registros\n",
    "       b1: array con los sesgos de las neuronas de la 1a capa\n",
    "       w2: matriz con los pesos de las conexiones entrantes de la 2a capa, \n",
    "         con tantas filas como atributos y tantas columnas como registros\n",
    "       b2: array con los sesgos de las neuronas de la 2a capa\n",
    "       -----------\n",
    "       Retorna:\n",
    "       a1: matriz con las activaciones de la capa escondida, \n",
    "         con tantas filas como neuronas de la capa y tantas columnas como registros\n",
    "       a2 (y estimado): vector con las predicciones\n",
    "    '''\n",
    "    a0 = X # matriz de 3 filas (inputs) * 8 columnas (registros)\n",
    "    z1 = np.dot(w1, a0) + b1 # (4, 3) * (3, 8) --> (4, 8) 4 filas (neuronas capa 1) * 8 columnas (registros = inputs capa 1)\n",
    "    a1 = sigmoide(z1)   # (4, 8) 4 filas (neuronas capa 1) * 8 columnas (registros)\n",
    "    z2 = np.dot(w2, a1) + b2 # (1, 4) * (4, 8) --> (1, 8) 1 filas (neuronas capa 2) * 8 columnas (registros)\n",
    "    a2 = sigmoide(z2)   # (1, 8) 1 filas (neuronas capa 2) * 8 columnas (registros)\n",
    "    return (a1, a2)"
   ]
  },
  {
   "cell_type": "markdown",
   "metadata": {},
   "source": [
    "Podemos entonces evaluar el estado inicial de la red (con sus parámetros inicales), y encontrar los mismos resultados que vimos antes:"
   ]
  },
  {
   "cell_type": "code",
   "execution_count": 13,
   "metadata": {},
   "outputs": [
    {
     "name": "stdout",
     "output_type": "stream",
     "text": [
      "[[0.52068432]\n",
      " [0.49822742]\n",
      " [0.57914146]\n",
      " [0.56160151]\n",
      " [0.54035237]\n",
      " [0.51996802]\n",
      " [0.60057781]\n",
      " [0.58093636]]\n"
     ]
    }
   ],
   "source": [
    "a1, a2 = feedForward(X, w1, b1, w2, b2)\n",
    "print(a2.transpose())"
   ]
  },
  {
   "cell_type": "markdown",
   "metadata": {},
   "source": [
    "Vemos que los datos están bastante alejados de la realidad [0, 1, 1, 0, 0, 1, 1, 0]."
   ]
  },
  {
   "cell_type": "markdown",
   "metadata": {},
   "source": [
    "Ahora necesitamos definir el proceso inverso de back propagation, a través del cuál se pueden ajustar los pesos de la red de manera iterativa, minimizando una función de costo que mide lo lejos de las predicciones con respecto a los valores reales."
   ]
  },
  {
   "cell_type": "markdown",
   "metadata": {},
   "source": [
    "## Función de costo"
   ]
  },
  {
   "cell_type": "code",
   "execution_count": 14,
   "metadata": {},
   "outputs": [],
   "source": [
    "epsilon = 0.00000001 # para evitar problemas de overflow"
   ]
  },
  {
   "cell_type": "code",
   "execution_count": 15,
   "metadata": {},
   "outputs": [],
   "source": [
    "def costoGlobal(y_real, y_est): \n",
    "    '''Calcula el costo global de la predicción con la red actual, comparando la clase real con las probabilidad estimadas\n",
    "       -----------\n",
    "       Argumentos:\n",
    "       y_real: array con las clases reales de los datos\n",
    "       y_est: array con las probabilidades de salida estimadas por la red\n",
    "       -----------\n",
    "       Retorna:\n",
    "       costo: promedio de los costos de cada predicción individual\n",
    "    '''\n",
    "    y_est = np.where(y_est<=0,epsilon,y_est)\n",
    "    y_est = np.where(y_est>=1,1-epsilon,y_est)\n",
    "    \n",
    "    costos = -(np.multiply(y_real, np.log(y_est))) - (np.multiply((1-y_real), np.log(1-y_est))) \n",
    "    # (1, 8) 1 filas * 8 columnas (registros)\n",
    "\n",
    "    return np.abs(np.mean(costos))"
   ]
  },
  {
   "cell_type": "code",
   "execution_count": 16,
   "metadata": {},
   "outputs": [
    {
     "data": {
      "text/plain": [
       "0.7017260765032634"
      ]
     },
     "execution_count": 16,
     "metadata": {},
     "output_type": "execute_result"
    }
   ],
   "source": [
    "costo = costoGlobal(y, a2)\n",
    "costo"
   ]
  },
  {
   "cell_type": "markdown",
   "metadata": {},
   "source": [
    "## Función de backpropagation"
   ]
  },
  {
   "cell_type": "markdown",
   "metadata": {},
   "source": [
    "El proceso de back-propagation comienza por calcular el error, comparando la diferencia entre lo que produce la red (**a2**) y lo que se espera como valor real (**y**).\n",
    "Vamos a abusar un poco de la nomenclatura para simplificar la escritura de los gradientes.\n",
    "Por ejemplo, el gradiente de la función de pérdida L con respecto a z2 (agregación de la segunda capa) en vez de notarlo com dL/dz, vamos a notarlo dz. Igual hacemos para referirnos a dL/dw2 como dw2, dL/db2 como db2, etc."
   ]
  },
  {
   "cell_type": "code",
   "execution_count": 17,
   "metadata": {},
   "outputs": [],
   "source": [
    "m=X.shape[1] # Número de instancias"
   ]
  },
  {
   "cell_type": "code",
   "execution_count": 18,
   "metadata": {},
   "outputs": [
    {
     "data": {
      "text/plain": [
       "8"
      ]
     },
     "execution_count": 18,
     "metadata": {},
     "output_type": "execute_result"
    }
   ],
   "source": [
    "m"
   ]
  },
  {
   "cell_type": "markdown",
   "metadata": {},
   "source": [
    "Por definición matemática sabemos que la función de pérdida sigmoide de la última capa tiene la siguiente formula:\n",
    "$$ 𝐿(𝑦 ̂, 𝑦)=𝐿(𝑎^{[2]}, 𝑦)= −𝑦∗log⁡(𝑎^{[2]}) − (1−𝑦) ∗ log⁡(1−𝑎^{[2]})$$\n",
    "De ahí, podemos encontrar el gradiente de la pérdida con respecto a las activaciones de la capa 2:\n",
    "$$\\frac{𝜕L}{𝜕𝑎^{[2]}} = \\frac{−𝑦}{𝑎^{[2]}}  +   \\frac{1−𝑦}{1−𝑎^{[2]}} = \\frac{𝑎^{[2]} −𝑦}{𝑎^{[2]}*(1−𝑎^{[2]})}$$"
   ]
  },
  {
   "cell_type": "markdown",
   "metadata": {},
   "source": [
    "Por otra parte, como $𝑎^{[2]}=sigmoide(z^{[2]})$, podemos decir que \n",
    "$$\\frac{𝜕𝑎^{[2]}}{𝜕𝑧^{[2]}} = 𝜎^′ (𝑧^{[2]}  )=𝑎^{[2]} * (1−𝑎^{[2]})$$\n",
    "De ahí,\n",
    "$$𝜕𝑧^{[2]} = \\frac{𝜕L^{[2]}}{𝜕𝑧^{[2]}} = \\frac{𝜕L^{[2]}}{𝜕a^{[2]}} * \\frac{𝜕a^{[2]}}{𝜕𝑧^{[2]}}\n",
    "= \\frac{(𝑎^{[2]} −𝑦)}{𝑎^{[2]}⋅(1−𝑎^{[2]})} * 𝑎^{[2]} * (1−𝑎^{[2]})\n",
    "= 𝑎^{[2]} −𝑦\n",
    "$$"
   ]
  },
  {
   "cell_type": "code",
   "execution_count": 19,
   "metadata": {},
   "outputs": [
    {
     "data": {
      "text/plain": [
       "array([0, 1, 1, 0, 0, 1, 1, 0])"
      ]
     },
     "execution_count": 19,
     "metadata": {},
     "output_type": "execute_result"
    }
   ],
   "source": [
    "y"
   ]
  },
  {
   "cell_type": "code",
   "execution_count": 19,
   "metadata": {},
   "outputs": [
    {
     "data": {
      "text/plain": [
       "array([[ 0.52068432, -0.50177258, -0.42085854,  0.56160151,  0.54035237,\n",
       "        -0.48003198, -0.39942219,  0.58093636]])"
      ]
     },
     "execution_count": 19,
     "metadata": {},
     "output_type": "execute_result"
    }
   ],
   "source": [
    "dz2 = a2-y          # (1, 8) 1 filas * 8 columnas (registros)\n",
    "dz2"
   ]
  },
  {
   "cell_type": "markdown",
   "metadata": {},
   "source": [
    "El gradiente dw2 nos indica que la pendiente de la curva de pérdida con respecto a los pesos de la capa 2, de tal manera que podemos actualizarlos siguiendo la siguiente ecuación.\n",
    "\n",
    "Partimos de\n",
    "    $$𝑧^{[2]} = 𝑾^{[𝟐]}* 𝒂^{[𝟏]} + * 𝒃^{[2]} $$\n",
    "Encontramos el gradiente con respecto a los parámetros:\n",
    "    $$\\frac{𝜕𝑧^{[2]}}{𝜕𝑾^{[𝟐]}} = 𝒂^{[𝟏]}$$\n",
    "    $$\\frac{𝜕𝑧^{[2]}}{𝜕𝒃^{[𝟐]}} = 1$$"
   ]
  },
  {
   "cell_type": "markdown",
   "metadata": {},
   "source": [
    "De ahí:\n",
    "    $$𝜕𝑾^{[𝟐]} = \\frac{𝜕𝐿}{𝜕𝑾^{[𝟐]}}=\\frac{𝜕𝐿}{𝜕𝑧^{[2]}} * \\frac{𝜕𝑧^{[2]}}{𝜕𝑾^{[𝟐]}} \n",
    "    =𝜕z^{[𝟐]}*𝒂^{[𝟏]}=(𝑎^{[2]} −𝑦)* 𝒂^{[𝟏]}$$\n",
    "    $$𝜕𝒃^{[𝟐]} = \\frac{𝜕𝐿}{𝜕𝒃^{[𝟐]}}=\\frac{𝜕𝐿}{𝜕𝑧^{[2]}} * \\frac{𝜕𝑧^{[2]}}{𝜕𝒃^{[𝟐]}} \n",
    "    =𝜕z^{[𝟐]}*1=(𝑎^{[2]} −𝑦)$$"
   ]
  },
  {
   "cell_type": "code",
   "execution_count": 20,
   "metadata": {},
   "outputs": [
    {
     "name": "stdout",
     "output_type": "stream",
     "text": [
      "[[0.01894371 0.03035325 0.02378262 0.02412405]]\n"
     ]
    }
   ],
   "source": [
    "dw2 = (1/m)*np.dot(dz2, a1.T) # (1, 8) * (8, 4) --> (1, 4) 1 fila (neuronas capa 2), 4 inputs\n",
    "print(dw2)"
   ]
  },
  {
   "cell_type": "code",
   "execution_count": 21,
   "metadata": {},
   "outputs": [
    {
     "data": {
      "text/plain": [
       "array([[ 0.52068432, -0.50177258, -0.42085854,  0.56160151,  0.54035237,\n",
       "        -0.48003198, -0.39942219,  0.58093636]])"
      ]
     },
     "execution_count": 21,
     "metadata": {},
     "output_type": "execute_result"
    }
   ],
   "source": [
    "dz2"
   ]
  },
  {
   "cell_type": "code",
   "execution_count": 23,
   "metadata": {},
   "outputs": [
    {
     "data": {
      "text/plain": [
       "0.4014892687908933"
      ]
     },
     "execution_count": 23,
     "metadata": {},
     "output_type": "execute_result"
    }
   ],
   "source": [
    "np.sum(dz2)"
   ]
  },
  {
   "cell_type": "code",
   "execution_count": 24,
   "metadata": {},
   "outputs": [
    {
     "data": {
      "text/plain": [
       "0.05018615859886166"
      ]
     },
     "execution_count": 24,
     "metadata": {},
     "output_type": "execute_result"
    }
   ],
   "source": [
    "np.sum(dz2)/8"
   ]
  },
  {
   "cell_type": "code",
   "execution_count": 19,
   "metadata": {},
   "outputs": [
    {
     "name": "stdout",
     "output_type": "stream",
     "text": [
      "[[0.05018616]]\n"
     ]
    }
   ],
   "source": [
    "db2 = (1/m)*np.sum(dz2, axis=1, keepdims=True)  # (1,1) 1 fila (neuronas capa 2) \n",
    "                                                # El axis=1 permita indicar que queremos las columnas\n",
    "                                                # el keepdims=True es para que siga siendo una lista de listas\n",
    "print(db2)"
   ]
  },
  {
   "cell_type": "markdown",
   "metadata": {},
   "source": [
    "Continuamos el back propagation y hacemos lo propio con las neuronas de la primera capa."
   ]
  },
  {
   "cell_type": "markdown",
   "metadata": {},
   "source": [
    "$$\\frac{𝜕𝒛^{[𝟐]}}{𝜕𝒂^{[𝟏]}} = 𝑾^{[𝟐]} $$"
   ]
  },
  {
   "cell_type": "markdown",
   "metadata": {},
   "source": [
    "$$\\frac{𝜕𝐿}{𝜕𝒛^{[𝟏]}} = \\frac{𝜕𝐿}{𝜕𝒂^{[𝟐]}}*\\frac{𝜕𝒂^{[𝟐]}}{𝜕𝒛^{[𝟐]}}*\\frac{𝜕𝒛^{[𝟐]}}{𝜕𝒂^{[𝟏]}}*\\frac{𝜕𝒂^{[𝟏]}}{𝜕𝒛^{[𝟏]}}\n",
    "=(𝑎^{[2]} −𝑦)*𝑾^{[𝟐]}*𝜎^′ (𝑧^{[1]}) $$"
   ]
  },
  {
   "cell_type": "code",
   "execution_count": 25,
   "metadata": {},
   "outputs": [],
   "source": [
    "dz1 = np.dot(w2.T, dz2) * sigmoideGrad(a1) # (4,1) * (1,8) --> (4, 8) 4 filas (neuronas capa 1), 8 registros"
   ]
  },
  {
   "cell_type": "markdown",
   "metadata": {},
   "source": [
    "Y teniendo en cuenta la agregación de la primera capa:"
   ]
  },
  {
   "cell_type": "markdown",
   "metadata": {},
   "source": [
    "$$\\frac{𝜕𝑧^{[1]}}{𝜕𝑾^{[1]}} = 𝒂^{[0]} = 𝑿$$\n",
    "$$\\frac{𝜕𝑧^{[1]}}{𝜕𝒃^{[1]}} = 1$$"
   ]
  },
  {
   "cell_type": "code",
   "execution_count": 26,
   "metadata": {},
   "outputs": [
    {
     "name": "stdout",
     "output_type": "stream",
     "text": [
      "[[-0.01115483 -0.00602118 -0.00624334]\n",
      " [ 0.00794091  0.00357267  0.004509  ]\n",
      " [ 0.00681363  0.0032471   0.00313675]\n",
      " [-0.00285442 -0.00157007 -0.00151429]]\n"
     ]
    }
   ],
   "source": [
    "dw1 = (1/m)*np.dot(dz1, X.T) #(4,8) * (8, 3) --> (4,3) 4 filas (neuronas capa 1), 3 inputs\n",
    "print(dw1)"
   ]
  },
  {
   "cell_type": "code",
   "execution_count": 27,
   "metadata": {},
   "outputs": [
    {
     "name": "stdout",
     "output_type": "stream",
     "text": [
      "[[-0.01501239]\n",
      " [ 0.01045782]\n",
      " [ 0.00809461]\n",
      " [-0.0037904 ]]\n"
     ]
    }
   ],
   "source": [
    "db1 = (1/m)*np.sum(dz1, axis=1, keepdims=True) # (4,1) 4 filas (neuronas capa 1)\n",
    "print(db1)"
   ]
  },
  {
   "cell_type": "markdown",
   "metadata": {},
   "source": [
    "Ahora que ya se tienen los dw1, dw2, db1 y db2, se podrían actualizar los valores de los parámetros, dado el learning rate definido."
   ]
  },
  {
   "cell_type": "markdown",
   "metadata": {},
   "source": [
    "La siguiente función se encarga de encapsular todo el proceso anterior en un solo llamado para facilitar la implementación del entrenamiento."
   ]
  },
  {
   "cell_type": "code",
   "execution_count": 28,
   "metadata": {},
   "outputs": [],
   "source": [
    "def backProp(X, y, w1, b1, w2, b2, a1, a2): \n",
    "    '''Calcula los deltas de las actualizaciones de los parámetros de las capas \n",
    "       -----------\n",
    "       Argumentos:\n",
    "       X: matriz con los inputs, con tantas filas como atributos y tantas columnas como registros\n",
    "       y: array con los valores reales a predecir\n",
    "       w1: matriz con los pesos de las conexiones entrantes de la 1a capa, \n",
    "         con tantas filas como atributos y tantas columnas como registros\n",
    "       w2: matriz con los pesos de las conexiones entrantes de la 2a capa, \n",
    "         con tantas filas como atributos y tantas columnas como registros\n",
    "       b1: array con los sesgos de las neuronas de la 1a capa\n",
    "       b2: array con los sesgos de las neuronas de la 2a capa\n",
    "       a1: matriz con las activaciones de la capa escondida, con tantas filas como neuronas de la capa y tantas columnas como registros\n",
    "       a2 (y estimado): vector con las predicciones\n",
    "       -----------\n",
    "       Retorna:\n",
    "       dw1: matriz con las actualizaciones que se deben aplicar a los coeficientes de la capa 1 (hidden)\n",
    "       db1: array con las actualizaciones que se deben aplicar a los sesgos de la capa 1 (hidden)\n",
    "       dw2: matriz con las actualizaciones que se deben aplicar a los coeficientes de la capa 2 (salida)\n",
    "       db2: array con las actualizaciones que se deben aplicar a los sesgos de la capa 2 (salida)\n",
    "    '''\n",
    "    m=X.shape[1]\n",
    "    dz2 = a2-y          # (1, 8) 1 filas * 8 columnas (registros)\n",
    "    dw2 = (1/m)*np.dot(dz2, a1.T) # (1, 8) * (8, 4) --> (1, 4) 1 fila (neuronas capa 2), 4 inputs\n",
    "    db2 = (1/m)*np.sum(dz2, axis=1, keepdims=True) # (1,1) 1 fila (neuronas capa 2)\n",
    "\n",
    "    dz1 = np.dot(w2.T, dz2) * sigmoideGrad(a1) # (4,1) * (1,8) --> (4, 8) 4 filas (neuronas capa 1), 8 registros\n",
    "    dw1 = (1/m)*np.dot(dz1, X.T) #(4,8) * (8, 3) --> (4,3) 4 filas (neuronas capa 1), 3 inputs\n",
    "    db1 = (1/m)*np.sum(dz1, axis=1, keepdims=True) # (4,1) 4 filas (neuronas capa 1)\n",
    "\n",
    "    return (dw1, db1, dw2, db2)"
   ]
  },
  {
   "cell_type": "code",
   "execution_count": 29,
   "metadata": {},
   "outputs": [],
   "source": [
    "dw1, db1, dw2, db2 = backProp(X, y, w1, b1, w2, b2, a1, a2)"
   ]
  },
  {
   "cell_type": "markdown",
   "metadata": {},
   "source": [
    "## Una iteración de entrenamiento"
   ]
  },
  {
   "cell_type": "markdown",
   "metadata": {},
   "source": [
    "Vamos ahora a programar el ciclo (época) de back propagation.\n",
    "- Se calculan los valores intermediarios en la fase forward: a0 (son las entradas X), a1 y a2 (las salidas estimadas y_est)\n",
    "- Se calcula el error de cada época\n",
    "- Se encuentran los valores de los gradientes en la fase backward a partir de los resultados anteriores"
   ]
  },
  {
   "cell_type": "markdown",
   "metadata": {},
   "source": [
    "Para entender mejor lo que pasa durante el entrenamiento de la red, vamos a ver en detalle lo que pasa con la primera época"
   ]
  },
  {
   "cell_type": "markdown",
   "metadata": {},
   "source": [
    "Lo primero que hacemos es inicializar los pesos y sesgos de la red, así como los parámetros del entrenamiento como la taza de aprendizaje (*learning rate*) y número de épocas."
   ]
  },
  {
   "cell_type": "code",
   "execution_count": 31,
   "metadata": {},
   "outputs": [],
   "source": [
    "w1, b1, w2, b2 = initParams()\n",
    "lr = 1 # learning rate\n",
    "epocas = 1000 # Iteraciones de backpropagation"
   ]
  },
  {
   "cell_type": "markdown",
   "metadata": {},
   "source": [
    "Hacemos un paso de feed forward que nos permita obtener la predicción con los pesos y sesgos actuales (iniciales aleatorios) de la red, que vamos a comparar con los valores reales"
   ]
  },
  {
   "cell_type": "code",
   "execution_count": 32,
   "metadata": {},
   "outputs": [
    {
     "name": "stdout",
     "output_type": "stream",
     "text": [
      "Las predicciones actuales son las activaciones de la neurona de la capa de salida a2:\n",
      " [[0.52068432 0.49822742 0.57914146 0.56160151 0.54035237 0.51996802\n",
      "  0.60057781 0.58093636]]\n",
      "Los valores reales son:\n",
      " [0 1 1 0 0 1 1 0]\n"
     ]
    }
   ],
   "source": [
    "a1, a2 = feedForward(X, w1, b1, w2, b2)\n",
    "print(\"Las predicciones actuales son las activaciones de la neurona de la capa de salida a2:\\n\", a2)\n",
    "print(\"Los valores reales son:\\n\", y)"
   ]
  },
  {
   "cell_type": "markdown",
   "metadata": {},
   "source": [
    "Vemos que en este momento no hay ninguna relación entre las predicciones y los valores reales.\n",
    "Vamos entonces a modificar los parámetros de la red con back propagation. Calculamos las actualizaciones y modificamos los valores iniciales."
   ]
  },
  {
   "cell_type": "code",
   "execution_count": 33,
   "metadata": {},
   "outputs": [
    {
     "name": "stdout",
     "output_type": "stream",
     "text": [
      "Las actualizaciones son las siguientes:\n",
      "dw1: [[-0.01115483 -0.00602118 -0.00624334]\n",
      " [ 0.00794091  0.00357267  0.004509  ]\n",
      " [ 0.00681363  0.0032471   0.00313675]\n",
      " [-0.00285442 -0.00157007 -0.00151429]] \n",
      "dw2: [[0.01894371 0.03035325 0.02378262 0.02412405]] \n",
      "db1: [[-0.01501239]\n",
      " [ 0.01045782]\n",
      " [ 0.00809461]\n",
      " [-0.0037904 ]] \n",
      "db2: [[0.05018616]]\n"
     ]
    }
   ],
   "source": [
    "dw1, db1, dw2, db2 = backProp(X, y, w1, b1, w2, b2, a1, a2)\n",
    "print(\"Las actualizaciones son las siguientes:\\ndw1:\", dw1,\"\\ndw2:\", dw2,\"\\ndb1:\", db1,\"\\ndb2:\", db2)"
   ]
  },
  {
   "cell_type": "code",
   "execution_count": 40,
   "metadata": {},
   "outputs": [
    {
     "name": "stdout",
     "output_type": "stream",
     "text": [
      "Los valores anteriores de los parámetros de la red eran:\n",
      "w1: [[-0.74606033  0.93343568 -0.47904799]\n",
      " [ 0.79447305 -0.24650057 -0.32755651]\n",
      " [-0.09724706  0.68051017 -0.75379571]\n",
      " [ 0.0860524  -0.25397555 -0.10400635]] \n",
      "w2: [[-0.74111864  0.71975741  0.64077673 -0.29589292]] \n",
      "b1: [[0.]\n",
      " [0.]\n",
      " [0.]\n",
      " [0.]] \n",
      "b2: [[0.]]\n",
      "Los nuevos valores de los parámetros de la red son:\n",
      "w1: [[-0.7349055   0.93945686 -0.47280464]\n",
      " [ 0.78653214 -0.25007324 -0.33206551]\n",
      " [-0.10406068  0.67726307 -0.75693246]\n",
      " [ 0.08890683 -0.25240548 -0.10249206]] \n",
      "w2: [[-0.76006235  0.68940416  0.6169941  -0.32001697]] \n",
      "b1: [[ 0.01501239]\n",
      " [-0.01045782]\n",
      " [-0.00809461]\n",
      " [ 0.0037904 ]] \n",
      "b2: [[-0.05018616]]\n"
     ]
    }
   ],
   "source": [
    "print(\"Los valores anteriores de los parámetros de la red eran:\\nw1:\", w1,\"\\nw2:\", w2,\"\\nb1:\", b1,\"\\nb2:\", b2)\n",
    "w1 = w1-lr*dw1\n",
    "w2 = w2-lr*dw2\n",
    "b1 = b1-lr*db1\n",
    "b2 = b2-lr*db2\n",
    "print(\"Los nuevos valores de los parámetros de la red son:\\nw1:\", w1,\"\\nw2:\", w2,\"\\nb1:\", b1,\"\\nb2:\", b2)"
   ]
  },
  {
   "cell_type": "markdown",
   "metadata": {},
   "source": [
    "Ahora que ya actualizamos los pesos veamos cuáles serían las nuevas predicciones:"
   ]
  },
  {
   "cell_type": "code",
   "execution_count": 34,
   "metadata": {},
   "outputs": [
    {
     "name": "stdout",
     "output_type": "stream",
     "text": [
      "Las predicciones anteriores eran:\n",
      " [[0.52068432 0.49822742 0.57914146 0.56160151 0.54035237 0.51996802\n",
      "  0.60057781 0.58093636]]\n",
      "Las predicciones actuales son:\n",
      " [[0.52068432 0.49822742 0.57914146 0.56160151 0.54035237 0.51996802\n",
      "  0.60057781 0.58093636]]\n",
      "Los valores reales son:\n",
      " [0 1 1 0 0 1 1 0]\n"
     ]
    }
   ],
   "source": [
    "print(\"Las predicciones anteriores eran:\\n\", a2)\n",
    "_, a2 = feedForward(X, w1, b1, w2, b2)\n",
    "print(\"Las predicciones actuales son:\\n\", a2)\n",
    "print(\"Los valores reales son:\\n\", y)"
   ]
  },
  {
   "cell_type": "markdown",
   "metadata": {},
   "source": [
    "Como lo que tenemos en la neurona de salida es una probabilidad, vamos a establecer un umbral de decisión en 50%, y a transformarlas en valores categóricos"
   ]
  },
  {
   "cell_type": "code",
   "execution_count": 35,
   "metadata": {},
   "outputs": [
    {
     "data": {
      "text/plain": [
       "array([1, 0, 1, 1, 1, 1, 1, 1])"
      ]
     },
     "execution_count": 35,
     "metadata": {},
     "output_type": "execute_result"
    }
   ],
   "source": [
    "np.squeeze(np.where(a2>0.5,1,0))"
   ]
  },
  {
   "cell_type": "code",
   "execution_count": 36,
   "metadata": {},
   "outputs": [
    {
     "data": {
      "text/plain": [
       "array([0, 1, 1, 0, 0, 1, 1, 0])"
      ]
     },
     "execution_count": 36,
     "metadata": {},
     "output_type": "execute_result"
    }
   ],
   "source": [
    "y"
   ]
  },
  {
   "cell_type": "code",
   "execution_count": 44,
   "metadata": {},
   "outputs": [
    {
     "name": "stdout",
     "output_type": "stream",
     "text": [
      "Las predicciones actuales son:\n",
      " [0 0 1 1 1 0 1 1]\n",
      "Los valores reales son:\n",
      " [0 1 1 0 0 1 1 0]\n",
      "El accuracy actual es de :\n",
      " 0.375\n"
     ]
    }
   ],
   "source": [
    "y_pred = np.squeeze(np.where(a2>0.5,1,0))\n",
    "print(\"Las predicciones actuales son:\\n\", y_pred)\n",
    "print(\"Los valores reales son:\\n\", y)\n",
    "accuracy = accuracy_score(y_pred, y)\n",
    "print(\"El accuracy actual es de :\\n\", accuracy)"
   ]
  },
  {
   "cell_type": "markdown",
   "metadata": {},
   "source": [
    "Veamos lo que nos darían una cuantas iteraciones de entrenamiento (época):"
   ]
  },
  {
   "cell_type": "code",
   "execution_count": 37,
   "metadata": {},
   "outputs": [
    {
     "name": "stdout",
     "output_type": "stream",
     "text": [
      "Las predicciones anteriores eran:\n",
      " [[0.52068432 0.49822742 0.57914146 0.56160151 0.54035237 0.51996802\n",
      "  0.60057781 0.58093636]]\n",
      "Las predicciones actuales son:\n",
      " [[0.49633316 0.47208107 0.55377767 0.53382765 0.51418783 0.49222539\n",
      "  0.57367961 0.55174205]]\n",
      "Los valores reales son:\n",
      " [0 1 1 0 0 1 1 0]\n",
      "Las predicciones actuales son:\n",
      " [0 0 1 1 1 0 1 1]\n",
      "Los valores reales son:\n",
      " [0 1 1 0 0 1 1 0]\n",
      "El accuracy actual es de :\n",
      " 0.375\n"
     ]
    }
   ],
   "source": [
    "a1, a2 = feedForward(X, w1, b1, w2, b2)\n",
    "dw1, db1, dw2, db2 = backProp(X, y, w1, b1, w2, b2, a1, a2)\n",
    "w1 = w1-lr*dw1\n",
    "w2 = w2-lr*dw2\n",
    "b1 = b1-lr*db1\n",
    "b2 = b2-lr*db2\n",
    "print(\"Las predicciones anteriores eran:\\n\", a2)\n",
    "_, a2 = feedForward(X, w1, b1, w2, b2)\n",
    "print(\"Las predicciones actuales son:\\n\", a2)\n",
    "print(\"Los valores reales son:\\n\", y)\n",
    "y_pred = np.squeeze(np.where(a2>0.5,1,0))\n",
    "print(\"Las predicciones actuales son:\\n\", y_pred)\n",
    "print(\"Los valores reales son:\\n\", y)\n",
    "accuracy = accuracy_score(y_pred, y)\n",
    "print(\"El accuracy actual es de :\\n\", accuracy)"
   ]
  },
  {
   "cell_type": "code",
   "execution_count": 38,
   "metadata": {},
   "outputs": [
    {
     "name": "stdout",
     "output_type": "stream",
     "text": [
      "Las predicciones anteriores eran:\n",
      " [[0.49633316 0.47208107 0.55377767 0.53382765 0.51418783 0.49222539\n",
      "  0.57367961 0.55174205]]\n",
      "Las predicciones actuales son:\n",
      " [[0.48466627 0.45978681 0.5411645  0.52012408 0.50171707 0.47925874\n",
      "  0.56030026 0.53742133]]\n",
      "Los valores reales son:\n",
      " [0 1 1 0 0 1 1 0]\n",
      "Las predicciones actuales son:\n",
      " [0 0 1 1 1 0 1 1]\n",
      "Los valores reales son:\n",
      " [0 1 1 0 0 1 1 0]\n",
      "El accuracy actual es de :\n",
      " 0.375\n"
     ]
    }
   ],
   "source": [
    "a1, a2 = feedForward(X, w1, b1, w2, b2)\n",
    "dw1, db1, dw2, db2 = backProp(X, y, w1, b1, w2, b2, a1, a2)\n",
    "w1 = w1-lr*dw1\n",
    "w2 = w2-lr*dw2\n",
    "b1 = b1-lr*db1\n",
    "b2 = b2-lr*db2\n",
    "print(\"Las predicciones anteriores eran:\\n\", a2)\n",
    "_, a2 = feedForward(X, w1, b1, w2, b2)\n",
    "print(\"Las predicciones actuales son:\\n\", a2)\n",
    "print(\"Los valores reales son:\\n\", y)\n",
    "y_pred = np.squeeze(np.where(a2>0.5,1,0))\n",
    "print(\"Las predicciones actuales son:\\n\", y_pred)\n",
    "print(\"Los valores reales son:\\n\", y)\n",
    "accuracy = accuracy_score(y_pred, y)\n",
    "print(\"El accuracy actual es de :\\n\", accuracy)"
   ]
  },
  {
   "cell_type": "code",
   "execution_count": 47,
   "metadata": {},
   "outputs": [
    {
     "name": "stdout",
     "output_type": "stream",
     "text": [
      "Las predicciones anteriores eran:\n",
      " [[0.47913414 0.45414591 0.53479923 0.51328983 0.49589635 0.47342138\n",
      "  0.55359109 0.53040584]]\n",
      "Las predicciones actuales son:\n",
      " [[0.47654773 0.45168378 0.53145902 0.50977198 0.49327171 0.47099409\n",
      "  0.55012023 0.52692393]]\n",
      "Los valores reales son:\n",
      " [0 1 1 0 0 1 1 0]\n",
      "Las predicciones actuales son:\n",
      " [0 0 1 1 0 0 1 1]\n",
      "Los valores reales son:\n",
      " [0 1 1 0 0 1 1 0]\n",
      "El accuracy actual es de :\n",
      " 0.5\n"
     ]
    }
   ],
   "source": [
    "a1, a2 = feedForward(X, w1, b1, w2, b2)\n",
    "dw1, db1, dw2, db2 = backProp(X, y, w1, b1, w2, b2, a1, a2)\n",
    "w1 = w1-lr*dw1\n",
    "w2 = w2-lr*dw2\n",
    "b1 = b1-lr*db1\n",
    "b2 = b2-lr*db2\n",
    "print(\"Las predicciones anteriores eran:\\n\", a2)\n",
    "_, a2 = feedForward(X, w1, b1, w2, b2)\n",
    "print(\"Las predicciones actuales son:\\n\", a2)\n",
    "print(\"Los valores reales son:\\n\", y)\n",
    "y_pred = np.squeeze(np.where(a2>0.5,1,0))\n",
    "print(\"Las predicciones actuales son:\\n\", y_pred)\n",
    "print(\"Los valores reales son:\\n\", y)\n",
    "accuracy = accuracy_score(y_pred, y)\n",
    "print(\"El accuracy actual es de :\\n\", accuracy)"
   ]
  },
  {
   "cell_type": "code",
   "execution_count": 39,
   "metadata": {},
   "outputs": [
    {
     "name": "stdout",
     "output_type": "stream",
     "text": [
      "Las predicciones anteriores eran:\n",
      " [[0.48466627 0.45978681 0.5411645  0.52012408 0.50171707 0.47925874\n",
      "  0.56030026 0.53742133]]\n",
      "Las predicciones actuales son:\n",
      " [[0.47913414 0.45414591 0.53479923 0.51328983 0.49589635 0.47342138\n",
      "  0.55359109 0.53040584]]\n",
      "Los valores reales son:\n",
      " [0 1 1 0 0 1 1 0]\n",
      "Las predicciones actuales son:\n",
      " [0 0 1 1 0 0 1 1]\n",
      "Los valores reales son:\n",
      " [0 1 1 0 0 1 1 0]\n",
      "El accuracy actual es de :\n",
      " 0.5\n"
     ]
    }
   ],
   "source": [
    "a1, a2 = feedForward(X, w1, b1, w2, b2)\n",
    "dw1, db1, dw2, db2 = backProp(X, y, w1, b1, w2, b2, a1, a2)\n",
    "w1 = w1-lr*dw1\n",
    "w2 = w2-lr*dw2\n",
    "b1 = b1-lr*db1\n",
    "b2 = b2-lr*db2\n",
    "print(\"Las predicciones anteriores eran:\\n\", a2)\n",
    "_, a2 = feedForward(X, w1, b1, w2, b2)\n",
    "print(\"Las predicciones actuales son:\\n\", a2)\n",
    "print(\"Los valores reales son:\\n\", y)\n",
    "y_pred = np.squeeze(np.where(a2>0.5,1,0))\n",
    "print(\"Las predicciones actuales son:\\n\", y_pred)\n",
    "print(\"Los valores reales son:\\n\", y)\n",
    "accuracy = accuracy_score(y_pred, y)\n",
    "print(\"El accuracy actual es de :\\n\", accuracy)"
   ]
  },
  {
   "cell_type": "code",
   "execution_count": 40,
   "metadata": {},
   "outputs": [
    {
     "name": "stdout",
     "output_type": "stream",
     "text": [
      "Las predicciones anteriores eran:\n",
      " [[0.47913414 0.45414591 0.53479923 0.51328983 0.49589635 0.47342138\n",
      "  0.55359109 0.53040584]]\n",
      "Las predicciones actuales son:\n",
      " [[0.47654773 0.45168378 0.53145902 0.50977198 0.49327171 0.47099409\n",
      "  0.55012023 0.52692393]]\n",
      "Los valores reales son:\n",
      " [0 1 1 0 0 1 1 0]\n",
      "Las predicciones actuales son:\n",
      " [0 0 1 1 0 0 1 1]\n",
      "Los valores reales son:\n",
      " [0 1 1 0 0 1 1 0]\n",
      "El accuracy actual es de :\n",
      " 0.5\n"
     ]
    }
   ],
   "source": [
    "a1, a2 = feedForward(X, w1, b1, w2, b2)\n",
    "dw1, db1, dw2, db2 = backProp(X, y, w1, b1, w2, b2, a1, a2)\n",
    "w1 = w1-lr*dw1\n",
    "w2 = w2-lr*dw2\n",
    "b1 = b1-lr*db1\n",
    "b2 = b2-lr*db2\n",
    "print(\"Las predicciones anteriores eran:\\n\", a2)\n",
    "_, a2 = feedForward(X, w1, b1, w2, b2)\n",
    "print(\"Las predicciones actuales son:\\n\", a2)\n",
    "print(\"Los valores reales son:\\n\", y)\n",
    "y_pred = np.squeeze(np.where(a2>0.5,1,0))\n",
    "print(\"Las predicciones actuales son:\\n\", y_pred)\n",
    "print(\"Los valores reales son:\\n\", y)\n",
    "accuracy = accuracy_score(y_pred, y)\n",
    "print(\"El accuracy actual es de :\\n\", accuracy)"
   ]
  },
  {
   "cell_type": "code",
   "execution_count": 41,
   "metadata": {},
   "outputs": [
    {
     "name": "stdout",
     "output_type": "stream",
     "text": [
      "Las predicciones anteriores eran:\n",
      " [[0.47654773 0.45168378 0.53145902 0.50977198 0.49327171 0.47099409\n",
      "  0.55012023 0.52692393]]\n",
      "Las predicciones actuales son:\n",
      " [[0.47537419 0.4507378  0.52958194 0.50785311 0.49217844 0.47019185\n",
      "  0.54821671 0.52514503]]\n",
      "Los valores reales son:\n",
      " [0 1 1 0 0 1 1 0]\n",
      "Las predicciones actuales son:\n",
      " [0 0 1 1 0 0 1 1]\n",
      "Los valores reales son:\n",
      " [0 1 1 0 0 1 1 0]\n",
      "El accuracy actual es de :\n",
      " 0.5\n"
     ]
    }
   ],
   "source": [
    "a1, a2 = feedForward(X, w1, b1, w2, b2)\n",
    "dw1, db1, dw2, db2 = backProp(X, y, w1, b1, w2, b2, a1, a2)\n",
    "w1 = w1-lr*dw1\n",
    "w2 = w2-lr*dw2\n",
    "b1 = b1-lr*db1\n",
    "b2 = b2-lr*db2\n",
    "print(\"Las predicciones anteriores eran:\\n\", a2)\n",
    "_, a2 = feedForward(X, w1, b1, w2, b2)\n",
    "print(\"Las predicciones actuales son:\\n\", a2)\n",
    "print(\"Los valores reales son:\\n\", y)\n",
    "y_pred = np.squeeze(np.where(a2>0.5,1,0))\n",
    "print(\"Las predicciones actuales son:\\n\", y_pred)\n",
    "print(\"Los valores reales son:\\n\", y)\n",
    "accuracy = accuracy_score(y_pred, y)\n",
    "print(\"El accuracy actual es de :\\n\", accuracy)"
   ]
  },
  {
   "cell_type": "markdown",
   "metadata": {},
   "source": [
    "## Ciclo de entrenamiento"
   ]
  },
  {
   "cell_type": "markdown",
   "metadata": {},
   "source": [
    "Ahora que hemos explicado lo que pasa durante una época de entrenamiento, podemos definir una función de entrenamiento que se repita para cada época. Definimos los hiperparámetros del modelo, utilizados para aprender los pesos de las capas (los verdaderos parámetros)."
   ]
  },
  {
   "cell_type": "code",
   "execution_count": 42,
   "metadata": {},
   "outputs": [],
   "source": [
    "def entrenarRed(epocas, lr, X, y, w1, b1, w2, b2, a1, a2, echo_progression=True):\n",
    "    '''Se encarga de controlar el ciclo de aprendizaje de los parámetros de la red\n",
    "       -----------\n",
    "       Argumentos:\n",
    "       epocas: número de iteraciones de aprendizaje a calcular \n",
    "       lr: (learning rate) tasa de aprendizaje que controla la magnitud de la actualización de los parámetros cada iteración\n",
    "       X: matriz con los inputs, con tantas filas como atributos y tantas columnas como registros\n",
    "       y: array con los valores reales a predecir\n",
    "       w1: matriz con los pesos de las conexiones entrantes de la 1a capa, \n",
    "         con tantas filas como atributos y tantas columnas como registros\n",
    "       w2: matriz con los pesos de las conexiones entrantes de la 2a capa, \n",
    "         con tantas filas como atributos y tantas columnas como registros\n",
    "       b1: array con los sesgos de las neuronas de la 1a capa\n",
    "       b2: array con los sesgos de las neuronas de la 2a capa\n",
    "       a1: matriz con las activaciones de la capa escondida, con tantas filas como neuronas de la capa y tantas columnas como registros\n",
    "       a2 (y estimado): vector con las predicciones\n",
    "       echo_progression: indica si se desea que se imprima el progreso de la tarea\n",
    "       -----------\n",
    "       Retorna:\n",
    "       costos: array con la evolución del costo de la red despúes de la actualización de cada época\n",
    "       accuracies: array con la evolución de la exactitud de la red despúes de la actualización de cada época \n",
    "       dw1: matriz con las actualizaciones que se deben aplicar a los coeficientes de la capa 1 (hidden)\n",
    "       db1: array con las actualizaciones que se deben aplicar a los sesgos de la capa 1 (hidden)\n",
    "       dw2: matriz con las actualizaciones que se deben aplicar a los coeficientes de la capa 2 (salida)\n",
    "       db2: array con las actualizaciones que se deben aplicar a los sesgos de la capa 2 (salida)\n",
    "    '''\n",
    "    costos = []\n",
    "    accuracies = []\n",
    "    for i in range(epocas):\n",
    "        a1, a2 = feedForward(X, w1, b1, w2, b2)\n",
    "        dw1, db1, dw2, db2 = backProp(X, y, w1, b1, w2, b2, a1, a2)\n",
    "\n",
    "        # Actualización de los parámetros\n",
    "        w1 -= lr*dw1\n",
    "        w2 -= lr*dw2\n",
    "        b1 -= lr*db1\n",
    "        b2 -= lr*db2\n",
    "        \n",
    "        #Costo y accuracy (usa el feed forward para obtener la predicción y luego calcula el accuracy)\n",
    "        #Se deben guardar los costos y accuracies en los vectores que se retornarán al final\n",
    "        _, a2 = feedForward(X, w1, b1, w2, b2)\n",
    "        y_pred = np.squeeze(np.where(a2>0.5,1,0))\n",
    "        accuracy = accuracy_score(y_pred, y)        \n",
    "        accuracies.append(accuracy)\n",
    "        costo = costoGlobal(y, a2)\n",
    "        costos.append(costo)\n",
    "        \n",
    "        if (echo_progression & (i%10==0)):\n",
    "            print(\"Epoca %d, costo = %12.10f, accuracy=%12.10f\" % (i, costo, accuracy))\n",
    "    \n",
    "    return (costos, accuracies, w1, b1, w2, b2)\n"
   ]
  },
  {
   "cell_type": "markdown",
   "metadata": {},
   "source": [
    "Definimos los hyperparámetros del modelo, utilizados para aprender los pesos de las capas (los verdaderos parámetros) y lanzamos el entrenamiento de la red."
   ]
  },
  {
   "cell_type": "code",
   "execution_count": 43,
   "metadata": {},
   "outputs": [
    {
     "name": "stdout",
     "output_type": "stream",
     "text": [
      "Epoca 0, costo = 0.6974323856, accuracy=0.3750000000\n",
      "Epoca 10, costo = 0.6948107134, accuracy=0.5000000000\n",
      "Epoca 20, costo = 0.6938142023, accuracy=0.5000000000\n",
      "Epoca 30, costo = 0.6930380901, accuracy=0.6250000000\n",
      "Epoca 40, costo = 0.6923781649, accuracy=0.6250000000\n",
      "Epoca 50, costo = 0.6917624945, accuracy=0.5000000000\n",
      "Epoca 60, costo = 0.6911359616, accuracy=0.5000000000\n",
      "Epoca 70, costo = 0.6904503749, accuracy=0.5000000000\n",
      "Epoca 80, costo = 0.6896572964, accuracy=0.5000000000\n",
      "Epoca 90, costo = 0.6887018733, accuracy=0.5000000000\n",
      "Epoca 100, costo = 0.6875164854, accuracy=0.5000000000\n",
      "Epoca 110, costo = 0.6860132125, accuracy=0.5000000000\n",
      "Epoca 120, costo = 0.6840741001, accuracy=0.5000000000\n",
      "Epoca 130, costo = 0.6815380328, accuracy=0.5000000000\n",
      "Epoca 140, costo = 0.6781827277, accuracy=0.5000000000\n",
      "Epoca 150, costo = 0.6737000475, accuracy=0.6250000000\n",
      "Epoca 160, costo = 0.6676627698, accuracy=0.6250000000\n",
      "Epoca 170, costo = 0.6594819722, accuracy=0.7500000000\n",
      "Epoca 180, costo = 0.6483583571, accuracy=0.7500000000\n",
      "Epoca 190, costo = 0.6332426197, accuracy=0.8750000000\n",
      "Epoca 200, costo = 0.6128470549, accuracy=0.8750000000\n",
      "Epoca 210, costo = 0.5857973579, accuracy=0.8750000000\n",
      "Epoca 220, costo = 0.5510472727, accuracy=0.8750000000\n",
      "Epoca 230, costo = 0.5085739402, accuracy=1.0000000000\n",
      "Epoca 240, costo = 0.4600099097, accuracy=1.0000000000\n",
      "Epoca 250, costo = 0.4085609205, accuracy=1.0000000000\n",
      "Epoca 260, costo = 0.3579846313, accuracy=1.0000000000\n",
      "Epoca 270, costo = 0.3113225384, accuracy=1.0000000000\n",
      "Epoca 280, costo = 0.2702491876, accuracy=1.0000000000\n",
      "Epoca 290, costo = 0.2351834736, accuracy=1.0000000000\n",
      "Epoca 300, costo = 0.2057519682, accuracy=1.0000000000\n",
      "Epoca 310, costo = 0.1812268304, accuracy=1.0000000000\n",
      "Epoca 320, costo = 0.1608044493, accuracy=1.0000000000\n",
      "Epoca 330, costo = 0.1437419031, accuracy=1.0000000000\n",
      "Epoca 340, costo = 0.1294059097, accuracy=1.0000000000\n",
      "Epoca 350, costo = 0.1172781973, accuracy=1.0000000000\n",
      "Epoca 360, costo = 0.1069430899, accuracy=1.0000000000\n",
      "Epoca 370, costo = 0.0980700931, accuracy=1.0000000000\n",
      "Epoca 380, costo = 0.0903969776, accuracy=1.0000000000\n",
      "Epoca 390, costo = 0.0837152823, accuracy=1.0000000000\n",
      "Epoca 400, costo = 0.0778585848, accuracy=1.0000000000\n",
      "Epoca 410, costo = 0.0726932783, accuracy=1.0000000000\n",
      "Epoca 420, costo = 0.0681114206, accuracy=1.0000000000\n",
      "Epoca 430, costo = 0.0640252203, accuracy=1.0000000000\n",
      "Epoca 440, costo = 0.0603627912, accuracy=1.0000000000\n",
      "Epoca 450, costo = 0.0570648751, accuracy=1.0000000000\n",
      "Epoca 460, costo = 0.0540823032, accuracy=1.0000000000\n",
      "Epoca 470, costo = 0.0513740196, accuracy=1.0000000000\n",
      "Epoca 480, costo = 0.0489055344, accuracy=1.0000000000\n",
      "Epoca 490, costo = 0.0466477048, accuracy=1.0000000000\n",
      "Epoca 500, costo = 0.0445757695, accuracy=1.0000000000\n",
      "Epoca 510, costo = 0.0426685795, accuracy=1.0000000000\n",
      "Epoca 520, costo = 0.0409079798, accuracy=1.0000000000\n",
      "Epoca 530, costo = 0.0392783121, accuracy=1.0000000000\n",
      "Epoca 540, costo = 0.0377660101, accuracy=1.0000000000\n",
      "Epoca 550, costo = 0.0363592693, accuracy=1.0000000000\n",
      "Epoca 560, costo = 0.0350477769, accuracy=1.0000000000\n",
      "Epoca 570, costo = 0.0338224880, accuracy=1.0000000000\n",
      "Epoca 580, costo = 0.0326754407, accuracy=1.0000000000\n",
      "Epoca 590, costo = 0.0315996019, accuracy=1.0000000000\n",
      "Epoca 600, costo = 0.0305887381, accuracy=1.0000000000\n",
      "Epoca 610, costo = 0.0296373074, accuracy=1.0000000000\n",
      "Epoca 620, costo = 0.0287403671, accuracy=1.0000000000\n",
      "Epoca 630, costo = 0.0278934970, accuracy=1.0000000000\n",
      "Epoca 640, costo = 0.0270927328, accuracy=1.0000000000\n",
      "Epoca 650, costo = 0.0263345100, accuracy=1.0000000000\n",
      "Epoca 660, costo = 0.0256156152, accuracy=1.0000000000\n",
      "Epoca 670, costo = 0.0249331449, accuracy=1.0000000000\n",
      "Epoca 680, costo = 0.0242844693, accuracy=1.0000000000\n",
      "Epoca 690, costo = 0.0236672015, accuracy=1.0000000000\n",
      "Epoca 700, costo = 0.0230791703, accuracy=1.0000000000\n",
      "Epoca 710, costo = 0.0225183966, accuracy=1.0000000000\n",
      "Epoca 720, costo = 0.0219830731, accuracy=1.0000000000\n",
      "Epoca 730, costo = 0.0214715464, accuracy=1.0000000000\n",
      "Epoca 740, costo = 0.0209823009, accuracy=1.0000000000\n",
      "Epoca 750, costo = 0.0205139448, accuracy=1.0000000000\n",
      "Epoca 760, costo = 0.0200651984, accuracy=1.0000000000\n",
      "Epoca 770, costo = 0.0196348826, accuracy=1.0000000000\n",
      "Epoca 780, costo = 0.0192219097, accuracy=1.0000000000\n",
      "Epoca 790, costo = 0.0188252747, accuracy=1.0000000000\n",
      "Epoca 800, costo = 0.0184440475, accuracy=1.0000000000\n",
      "Epoca 810, costo = 0.0180773664, accuracy=1.0000000000\n",
      "Epoca 820, costo = 0.0177244318, accuracy=1.0000000000\n",
      "Epoca 830, costo = 0.0173845010, accuracy=1.0000000000\n",
      "Epoca 840, costo = 0.0170568828, accuracy=1.0000000000\n",
      "Epoca 850, costo = 0.0167409338, accuracy=1.0000000000\n",
      "Epoca 860, costo = 0.0164360538, accuracy=1.0000000000\n",
      "Epoca 870, costo = 0.0161416828, accuracy=1.0000000000\n",
      "Epoca 880, costo = 0.0158572972, accuracy=1.0000000000\n",
      "Epoca 890, costo = 0.0155824072, accuracy=1.0000000000\n",
      "Epoca 900, costo = 0.0153165542, accuracy=1.0000000000\n",
      "Epoca 910, costo = 0.0150593083, accuracy=1.0000000000\n",
      "Epoca 920, costo = 0.0148102661, accuracy=1.0000000000\n",
      "Epoca 930, costo = 0.0145690485, accuracy=1.0000000000\n",
      "Epoca 940, costo = 0.0143352993, accuracy=1.0000000000\n",
      "Epoca 950, costo = 0.0141086834, accuracy=1.0000000000\n",
      "Epoca 960, costo = 0.0138888850, accuracy=1.0000000000\n",
      "Epoca 970, costo = 0.0136756066, accuracy=1.0000000000\n",
      "Epoca 980, costo = 0.0134685676, accuracy=1.0000000000\n",
      "Epoca 990, costo = 0.0132675028, accuracy=1.0000000000\n"
     ]
    }
   ],
   "source": [
    "lr = 1 # learning rate\n",
    "epocas = 1000 # Iteraciones de backpropagation\n",
    "\n",
    "w1, b1, w2, b2 = initParams()\n",
    "accuracies, costos, w1, b1, w2, b2 = entrenarRed(epocas, lr, X, y, w1, b1, w2, b2, a1, a2)"
   ]
  },
  {
   "cell_type": "markdown",
   "metadata": {},
   "source": [
    "Nuestras predicciones finales son: "
   ]
  },
  {
   "cell_type": "code",
   "execution_count": 44,
   "metadata": {},
   "outputs": [
    {
     "name": "stdout",
     "output_type": "stream",
     "text": [
      "Las predicciones actuales son:\n",
      " [0.01119753 0.98752439 0.98518618 0.01316119 0.01143432 0.98770127\n",
      " 0.98535006 0.01401101]\n",
      "Los valores reales son:\n",
      " [0 1 1 0 0 1 1 0]\n",
      "Las predicciones actuales son:\n",
      " [0 1 1 0 0 1 1 0]\n",
      "Los valores reales son:\n",
      " [0 1 1 0 0 1 1 0]\n",
      "El accuracy actual es de :\n",
      " 1.0\n"
     ]
    }
   ],
   "source": [
    "_, a2 = feedForward(X, w1, b1, w2, b2)\n",
    "print(\"Las predicciones actuales son:\\n\", np.squeeze(a2))\n",
    "print(\"Los valores reales son:\\n\", y)\n",
    "y_pred = np.squeeze(np.where(a2>0.5,1,0))\n",
    "print(\"Las predicciones actuales son:\\n\", y_pred)\n",
    "print(\"Los valores reales son:\\n\", y)\n",
    "accuracy = accuracy_score(y_pred, y)\n",
    "print(\"El accuracy actual es de :\\n\", accuracy)"
   ]
  },
  {
   "cell_type": "markdown",
   "metadata": {},
   "source": [
    "## Encontrar el mejor learning rate"
   ]
  },
  {
   "cell_type": "code",
   "execution_count": 99,
   "metadata": {},
   "outputs": [],
   "source": [
    "learningRates = np.arange(0, 2, 0.1)"
   ]
  },
  {
   "cell_type": "code",
   "execution_count": 104,
   "metadata": {},
   "outputs": [
    {
     "ename": "SyntaxError",
     "evalue": "invalid syntax (1259671576.py, line 1)",
     "output_type": "error",
     "traceback": [
      "\u001b[1;36m  Cell \u001b[1;32mIn[104], line 1\u001b[1;36m\u001b[0m\n\u001b[1;33m    5 10e-5\u001b[0m\n\u001b[1;37m      ^\u001b[0m\n\u001b[1;31mSyntaxError\u001b[0m\u001b[1;31m:\u001b[0m invalid syntax\n"
     ]
    }
   ],
   "source": [
    "0.00005\n",
    "0.00001\n",
    "0.0005\n",
    "0.0001\n",
    "0.005\n",
    "0.001\n",
    "0.05\n",
    "0.01\n",
    "0.5\n",
    "0.1\n"
   ]
  },
  {
   "cell_type": "code",
   "execution_count": 85,
   "metadata": {},
   "outputs": [
    {
     "data": {
      "text/plain": [
       "array([0. , 0.1, 0.2, 0.3, 0.4, 0.5, 0.6, 0.7, 0.8, 0.9, 1. , 1.1, 1.2,\n",
       "       1.3, 1.4, 1.5, 1.6, 1.7, 1.8, 1.9])"
      ]
     },
     "execution_count": 85,
     "metadata": {},
     "output_type": "execute_result"
    }
   ],
   "source": [
    "learningRates"
   ]
  },
  {
   "cell_type": "code",
   "execution_count": 93,
   "metadata": {},
   "outputs": [
    {
     "data": {
      "text/plain": [
       "[0.0,\n",
       " 0.1,\n",
       " 0.2,\n",
       " 0.30000000000000004,\n",
       " 0.4,\n",
       " 0.5,\n",
       " 0.6000000000000001,\n",
       " 0.7000000000000001,\n",
       " 0.8,\n",
       " 0.9,\n",
       " 1.0,\n",
       " 1.1,\n",
       " 1.2000000000000002,\n",
       " 1.3,\n",
       " 1.4000000000000001,\n",
       " 1.5,\n",
       " 1.6,\n",
       " 1.7000000000000002,\n",
       " 1.8,\n",
       " 1.9000000000000001,\n",
       " 10.0,\n",
       " 100.0]"
      ]
     },
     "execution_count": 93,
     "metadata": {},
     "output_type": "execute_result"
    }
   ],
   "source": [
    "lr_list = learningRates.tolist()\n",
    "lr_list.append(100.0)\n",
    "lr_list"
   ]
  },
  {
   "cell_type": "code",
   "execution_count": 94,
   "metadata": {},
   "outputs": [],
   "source": [
    "learningRates = np.array(lr_list)"
   ]
  },
  {
   "cell_type": "code",
   "execution_count": 95,
   "metadata": {},
   "outputs": [
    {
     "data": {
      "text/plain": [
       "array([  0. ,   0.1,   0.2,   0.3,   0.4,   0.5,   0.6,   0.7,   0.8,\n",
       "         0.9,   1. ,   1.1,   1.2,   1.3,   1.4,   1.5,   1.6,   1.7,\n",
       "         1.8,   1.9,  10. , 100. ])"
      ]
     },
     "execution_count": 95,
     "metadata": {},
     "output_type": "execute_result"
    }
   ],
   "source": [
    "learningRates"
   ]
  },
  {
   "cell_type": "code",
   "execution_count": 100,
   "metadata": {},
   "outputs": [
    {
     "name": "stdout",
     "output_type": "stream",
     "text": [
      "LR:  0.0 , costo:  0.7017260765032634 , accuracy:  0.375\n",
      "LR:  0.1 , costo:  0.6875540686783325 , accuracy:  0.5\n",
      "LR:  0.2 , costo:  0.6121044003321473 , accuracy:  0.875\n",
      "LR:  0.30000000000000004 , costo:  0.2051989319349055 , accuracy:  1.0\n",
      "LR:  0.4 , costo:  0.07794847342592806 , accuracy:  1.0\n",
      "LR:  0.5 , costo:  0.044652706177736375 , accuracy:  1.0\n",
      "LR:  0.6000000000000001 , costo:  0.030641708186291243 , accuracy:  1.0\n",
      "LR:  0.7000000000000001 , costo:  0.0231172367819532 , accuracy:  1.0\n",
      "LR:  0.8 , costo:  0.018473020651848044 , accuracy:  1.0\n",
      "LR:  0.9 , costo:  0.015339725265469669 , accuracy:  1.0\n",
      "LR:  1.0 , costo:  0.013091445417201038 , accuracy:  1.0\n",
      "LR:  1.1 , costo:  0.011403744144878127 , accuracy:  1.0\n",
      "LR:  1.2000000000000002 , costo:  0.010092455060701758 , accuracy:  1.0\n",
      "LR:  1.3 , costo:  0.009045599260370987 , accuracy:  1.0\n",
      "LR:  1.4000000000000001 , costo:  0.008191325440908438 , accuracy:  1.0\n",
      "LR:  1.5 , costo:  0.007481490018496194 , accuracy:  1.0\n",
      "LR:  1.6 , costo:  0.006882665506379397 , accuracy:  1.0\n",
      "LR:  1.7000000000000002 , costo:  0.006370940340261828 , accuracy:  1.0\n",
      "LR:  1.8 , costo:  0.005928771665008553 , accuracy:  1.0\n",
      "LR:  1.9000000000000001 , costo:  0.005543006027546109 , accuracy:  1.0\n"
     ]
    }
   ],
   "source": [
    "costosFinales = []\n",
    "accuraciesFinales = []\n",
    "\n",
    "for lr in learningRates:\n",
    "    w1, b1, w2, b2 = initParams()\n",
    "    costos, accuracies, w1, b1, w2, b2 = entrenarRed(epocas, lr, X, y, w1, b1, w2, b2, a1, a2, False)\n",
    "    costosFinales.append(costos[epocas-1])\n",
    "    accuraciesFinales.append(accuracies[epocas-1])\n",
    "    print(\"LR: \", lr, \", costo: \", costos[epocas-1], \", accuracy: \", accuracies[epocas-1])"
   ]
  },
  {
   "cell_type": "code",
   "execution_count": 101,
   "metadata": {},
   "outputs": [],
   "source": [
    "costosFinales = np.array(costosFinales)"
   ]
  },
  {
   "cell_type": "code",
   "execution_count": 102,
   "metadata": {},
   "outputs": [
    {
     "data": {
      "image/png": "[encoded data removed]",
      "text/plain": [
       "<Figure size 1800x900 with 1 Axes>"
      ]
     },
     "metadata": {},
     "output_type": "display_data"
    }
   ],
   "source": [
    "plt.figure(figsize=(18,9))\n",
    "ax = plt.gca()\n",
    "plt.plot(learningRates, costosFinales)\n",
    "#ax.set_xscale('log')\n",
    "#ax.set_xlim(ax.get_xlim()[::-1])  # reverse axis\n",
    "plt.axis('tight')\n",
    "plt.xlabel('Learning Rate')\n",
    "plt.ylabel('Costo')\n",
    "plt.title('Costo con respecto al learning rate')\n",
    "plt.legend(['train', 'test'])\n",
    "plt.show()"
   ]
  },
  {
   "cell_type": "code",
   "execution_count": null,
   "metadata": {},
   "outputs": [],
   "source": []
  },
  {
   "cell_type": "code",
   "execution_count": null,
   "metadata": {},
   "outputs": [],
   "source": []
  }
 ],
 "metadata": {
  "kernelspec": {
   "display_name": "Python 3 (ipykernel)",
   "language": "python",
   "name": "python3"
  },
  "language_info": {
   "codemirror_mode": {
    "name": "ipython",
    "version": 3
   },
   "file_extension": ".py",
   "mimetype": "text/x-python",
   "name": "python",
   "nbconvert_exporter": "python",
   "pygments_lexer": "ipython3",
   "version": "3.12.3"
  },
  "toc": {
   "base_numbering": 1,
   "nav_menu": {},
   "number_sections": true,
   "sideBar": true,
   "skip_h1_title": false,
   "title_cell": "Table of Contents",
   "title_sidebar": "Contents",
   "toc_cell": true,
   "toc_position": {
    "height": "calc(100% - 180px)",
    "left": "10px",
    "top": "150px",
    "width": "165px"
   },
   "toc_section_display": true,
   "toc_window_display": true
  }
 },
 "nbformat": 4,
 "nbformat_minor": 4
}
